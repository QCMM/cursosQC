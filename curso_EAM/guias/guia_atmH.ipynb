{
 "cells": [
  {
   "cell_type": "code",
   "execution_count": 1,
   "metadata": {},
   "outputs": [],
   "source": [
    "import qcelemental as qcel\n",
    "import numpy as np\n",
    "from sympy import *\n",
    "from scipy import integrate as integracion_num\n",
    "\n",
    "c = qcel.constants.c\n",
    "h = qcel.constants.h\n",
    "me= qcel.constants.me\n",
    "pi = np.pi\n",
    "avog = qcel.constants.get(\"Avogadro constant\")\n",
    "J2kJmol = avog/1000"
   ]
  },
  {
   "cell_type": "markdown",
   "metadata": {},
   "source": [
    "# Guía 4: Átomo de hidrógeno"
   ]
  },
  {
   "cell_type": "markdown",
   "metadata": {},
   "source": [
    "## Ejercicio 1:\n",
    "\n",
    "Calcule los valores permitidos de (a) l para n = 5 Y (b) m si l = 5.\n",
    "\n",
    "#### Solución:\n",
    "\n",
    "El electrón en el átomo de hidrógeno está caracterizado por 3 números cuánticos *n*, *l*, *m*. Estos corresponden a las propiedades físicas de energía (*n*) y momento angular para (*l*, *m*). Al solucionar la ecuación de Schrödinger se imponen ciertas restriciones sobre estos números cuánticos, para asegurar que la función de onda sea cuadrado integrable. \n",
    "\n",
    "\\begin{align}\n",
    "n &= 1,2, ....\\\\\n",
    "l &= 0,1,2,3, ... , n-1 \\\\\n",
    "m &= -l, -l+1, -l+2, ... , -1,0,1,..., l-2, l-1, l\n",
    "\\end{align}\n",
    "\n",
    "Por lo tanto si tenemos un átomo de hidrógeno en el estado *n* = 5, los posibles valores de *l* son:\n",
    "\n",
    "\\begin{align}\n",
    "l = 0,1,2,3,4 \\\\\n",
    "\\end{align}\n",
    "\n",
    "y los posibles valores para *m* en el caso que *l*=5 son:\n",
    "\n",
    "\\begin{align}\n",
    "m = -5,-4,-3,-2,-1,0,1,2,3,4,-5 \\\\\n",
    "\\end{align}\n"
   ]
  },
  {
   "cell_type": "markdown",
   "metadata": {},
   "source": [
    "## Ejercicio 2:\n",
    "\n",
    "Si medimos L$_z$ de un electrón en un átomo de hidrógeno con número cuántico de momento\n",
    "angular l = 2, ¿cuales son los posibles resultados de la medida? Si medimos L$_z$ de una partı́cula cuyos estado\n",
    "es una función propia de L̂$^2$ con valor propio 12$\\hbar^2$, ¿cuales son los posibles resultados de la medición?"
   ]
  },
  {
   "cell_type": "markdown",
   "metadata": {},
   "source": [
    "#### Solución:\n",
    "\n",
    "Las funciones de onda del hidrógeno son de la forma:\n",
    "\n",
    "$$ \\psi(r,\\theta,\\phi) = R_{nl}(r)Y_l^m(\\theta, \\phi)$$\n",
    "\n",
    "Donde $R(r)$ es la función de onda radial y $Y_l^m(\\theta, \\phi)$ es la función de onda angular que solamente depende de los angulos ($\\theta$ y $\\phi$). Esta función de onda total es función propia de los operadores $\\hat{L_z}$, $\\hat{L^2}$ y $\\hat{H}$. Al medir la componente *z* del momento angular los posibles resultados tienen que ser uno de los valores propios de  $\\hat{L_z}$. Tal que:\n",
    "\n",
    "$$ \\hat{L_z}\\psi(r,\\theta,\\phi) = l_z \\psi(r,\\theta,\\phi) $$\n",
    "\n",
    "donde $l_z$ es el valor propio. Sabemos que si $l=2$ los posibles valores de $m$ pueden ser:\n",
    "\n",
    "\\begin{align}\n",
    "m = -2,-1, 0,1,2 \\\\\n",
    "\\end{align}\n",
    "\n",
    "Además sabemos que el función de onda angular es función propia del operador  $\\hat{L_z}$ con valor propio\n",
    "$m\\hbar$:\n",
    "\n",
    "\\begin{align}\n",
    "    \\hat{L_z}  Y_l^m(r,\\theta,\\phi) &=  m\\hbar Y_l^m(\\theta, \\phi) \\\\\n",
    "\\end{align}\n",
    "\n",
    "\n",
    "Por lo tanto tenemos que:\n",
    "\n",
    "\\begin{align}\n",
    "    \\hat{L_z} \\psi(r,\\theta,\\phi) &= l_z \\psi(r,\\theta,\\phi) \\\\\n",
    "    \\hat{L_z} \\psi(r,\\theta,\\phi) &= l_z R(r)Y_l^m(\\theta, \\phi) \\\\\n",
    "    \\hat{L_z} \\psi(r,\\theta,\\phi) &= R(r) l_z Y_l^m(\\theta, \\phi) \\\\\n",
    "    \\hat{L_z} \\psi(r,\\theta,\\phi) &= R(r) m\\hbar Y_l^m(\\theta, \\phi) \\\\\n",
    "    \\hat{L_z} \\psi(r,\\theta,\\phi) &= m\\hbar R(r)Y_l^m(\\theta, \\phi) \\\\\n",
    "    \\hat{L_z} \\psi(r,\\theta,\\phi) &= m\\hbar \\psi(r,\\theta,\\phi)  \\\\\n",
    "\\end{align}\n",
    "\n",
    "Vemos entonces que:\n",
    "\n",
    "$$ l_z = m\\hbar $$\n",
    "\n",
    "\n",
    "Como los valores del número cuántico *m* están limitados por el valor de *l*, para $l=2$ los posibles valores de *m* son:\n",
    "\n",
    "\\begin{align}\n",
    "m = -2\\hbar,-1\\hbar, 0,1\\hbar,2\\hbar \\\\\n",
    "\\end{align}\n",
    "\n",
    "La misma lógica se aplica a la segunda parte del ejercicio que nos entrega el valor de la magnitud del momento angular al cuadrado ($\\hat{L^2}$) y nos pide calcular los posibles valores de l_z. Primer hay que deducir el valor de *l* a partir del valor propio entregado. Sabemos que:\n",
    "\n",
    "\\begin{align}\n",
    "    \\hat{L^2}  Y_l^m(r,\\theta,\\phi) &=  l(l+1)\\hbar^2 Y_l^m(\\theta, \\phi) \\\\\n",
    "\\end{align}\n",
    "\n",
    "y como donde $l(l+1)\\hbar^2$ es el valor propio del operador $\\hat{L^2}$. Por lo tanto podemos encontrar el valor de *l*:\n",
    "\n",
    "\\begin{align}\n",
    "12\\hbar^2 &= l(l+1)\\hbar^2 \\\\\n",
    "12 &= l^2 + l \n",
    "l^2 + l - 12 = 0 \n",
    "\\end{align}\n",
    "\n",
    "Por inspeción podemos ver que el único número mayor que cero que cumple con esa ecuación es l=3. Por lo tanto \n",
    "los posibles resultados de una medición de $l_z$cuando el átomo está en un estado  de momento angular $l=3$ son:\n",
    "\n",
    "\\begin{align}\n",
    "m = -3\\hbar,-2\\hbar, -1\\hbar 0,1\\hbar,2\\hbar 3\\hbar \\\\\n",
    "\\end{align}"
   ]
  },
  {
   "cell_type": "markdown",
   "metadata": {},
   "source": [
    "## Ejercicio 3\n",
    "\n",
    "Sin considerar el es espı́n, calcule la degeneración del nivel de energı́a de un átomo hidrogenoide\n",
    "para (a) n = 1; (b) n = 2; (c) n = 3\n",
    "\n",
    "La energía en el átomo de hidrógeno solamente depende del número cuántico principal $n$, tal que todos los estados con un mismo $n$ pero distintos valores de $l$ y $m$ tienen la misma energía. Además por cada nivel de energía asociado a $n$ existen $n^2$ niveles de energía. Por lo tanto los resultados son:\n",
    "\n",
    "- a) nivel de degeneración  n = 1: 1\n",
    "- b) nivel de degeneración  n = 2: 4\n",
    "- c)  nivel de degeneración n = 3: 9\n",
    "\n",
    "¿Pueden escribir los números cuánticos asociados a esos estados?"
   ]
  },
  {
   "cell_type": "markdown",
   "metadata": {},
   "source": [
    "## Ejercicio 4\n",
    "\n",
    "Calcule el potencial de ionización en eV de (a) He$^+$; (b) Li$^+$\n",
    "\n",
    "El potencial de ionización se puede calcular utilizando el modelo cuántico del átomo de hidrógeno. Las soluciones de la ecuación de Schrödinger nos entrega la energía de union del electrón al núcleo de los distinos átomos hidrogenoides. Naturalmente mientras más alta la carga  del ńucleo mayor va ser la energía de union. Entonces para calcular la energía de ionización debemos saber cuanto energía se necesita para remover el electrón del núcleo, es decir el proceso inverso de ligar el elelctrón al núcleo:\n",
    "\n",
    "- He$^+$ $\\rightarrow$ He$^2+$ + e$^-$\n",
    "\n",
    "Por lo tanto para resolver el ejercicio debemos calcular la energía de union e invertir el signo para obtener el potencial de ionización. La energía del átomo de hidrógeno está dada por la expresión (eq. 19.14 Físicoquímica - Levine)$^1$.\n",
    "\n",
    "\\begin{equation}\n",
    "E_n = -\\frac{Z^2}{n^2}\\frac{e^2}{(4\\pi \\epsilon_0) 2a} \n",
    "\\end{equation}\n",
    "\n",
    "donde,\n",
    "\n",
    "\\begin{align}\n",
    "a = \\frac{\\hbar^2 (4\\pi \\epsilon_0)}{\\mu e^2}\n",
    "\\end{align}\n",
    "\n",
    "Una forma alternativa y más compacta de escribir la energía del átomo de hidrógeno es escribiendo la carga $e$ en statcoulomb tal que:\n",
    "\n",
    "\\begin{align}\n",
    "e' = \\frac{e}{(4\\pi \\epsilon_0)^{1/2}}\n",
    "\\end{align}\n",
    "\n",
    "Entonces la expresión para la energía queda como:\n",
    "\n",
    "\\begin{equation}\n",
    "E_n = -\\frac{Z^2}{n^2}\\frac{e'^2}{2a} \n",
    "\\end{equation}\n",
    "\n",
    "donde,\n",
    "\n",
    "\\begin{equation}\n",
    "a = \\frac{\\hbar^2}{\\mu e'^2}\n",
    "\\end{equation}\n",
    "\n",
    "Por útlima la juntar las dos expresiones anteriores se puede llegar a una expresión única (eq. 6.94 Química cuántica - Levine)$^2$:\n",
    "\n",
    "\\begin{equation}\n",
    "E_n = -\\frac{Z^2 \\mu e'^4}{2n^2\\hbar^2}\n",
    "\\end{equation}\n",
    "\n",
    "Finalmente si aproximamos la masa reducida del átomo de hidrógeno como la masa del electrón la expresión queda: \n",
    "\n",
    "\\begin{equation}\n",
    "E_n = -\\frac{Z^2 m_e e'^4}{2n^2\\hbar^2}\n",
    "\\end{equation}\n",
    "\n",
    "y la distancia $a$ se cambia a $a_0$, el llamado radio de Bohr.\n",
    "\n",
    "\\begin{equation}\n",
    "a_0 = \\frac{\\hbar^2}{m_e e'^2}\n",
    "\\end{equation}\n",
    "\n",
    "Ahora analicemos los valores de las distintas constantes que aparecen el la expresión de energía. Primero sabemos que la energía depende de un número entero mayor que 0 que se denomina número cuántico principal.  \n",
    "\n",
    "\\begin{equation}\n",
    "n = 1,2,3,...\n",
    "\\end{equation}\n",
    "\n",
    "Este número no tiene unidades, además tenemos el número atómico que depende del número de protones en el núcleo y que tampoco tiene unidedas. El resto de los valores que aparecen en la expresión de energía son constantes:"
   ]
  },
  {
   "cell_type": "code",
   "execution_count": 2,
   "metadata": {},
   "outputs": [
    {
     "name": "stdout",
     "output_type": "stream",
     "text": [
      "\n",
      "Constante eléctrica (ε0): 8.854187817e-12 C2⋅N−1⋅m−2 \n",
      "h-barra (ℏ): 1.0545718e-34 Js\n",
      "Carga elemental (e): 1.6021766208e-19 C\n",
      "masa del electron (m_e): 9.10938356e-31 kg\n",
      "Carga elemental en statcoulomb (e'): 1.5189066835168994e-14 N1/2m1\n",
      "Bohr radius (a_0): 5.2917721067e-11 m\n",
      "\n"
     ]
    }
   ],
   "source": [
    "epsilon = qcel.constants.electric_constant\n",
    "hbar = qcel.constants.hbar\n",
    "pi = np.pi\n",
    "e = qcel.constants.elementary_charge\n",
    "a_0 = qcel.constants.atomic_unit_of_length\n",
    "m_e = qcel.constants.electron_mass\n",
    "eprima = e/np.sqrt(4*pi*epsilon)\n",
    "\n",
    "ctes = '''\n",
    "Constante eléctrica (ε0): {} C2⋅N−1⋅m−2 \n",
    "h-barra (ℏ): {} Js\n",
    "Carga elemental (e): {} C\n",
    "masa del electron (m_e): {} kg\n",
    "Carga elemental en statcoulomb (e'): {} N1/2m1\n",
    "Bohr radius (a_0): {} m\n",
    "'''.format(epsilon, hbar, e, m_e, eprima, a_0)\n",
    "print(ctes)"
   ]
  },
  {
   "cell_type": "markdown",
   "metadata": {},
   "source": [
    "Considerando el valor de estas constantes verifiquemos que la expresión de energía efectivamente es una energía: \n",
    "\n",
    "\\begin{align}\n",
    "E_n = -\\frac{Z^2 m_e e'^4}{2n^2\\hbar^2} = -\\frac{ [kg] [ N^{2} m^{4}]}{[ J^2 s^2]} \n",
    "\\end{align}\n",
    "\n",
    "Recordemos además que las unidades de energía son: \n",
    "\n",
    "\\begin{align}\n",
    "[J] = -\\frac{ [kg] [m^2]}{[s^2]} = [N][m]\n",
    "\\end{align}\n",
    "\n",
    "Por lo tanto:\n",
    "\n",
    "\\begin{align}\n",
    "[E_n] = \\frac{ [kg] [ J^{2} m^{2}]}{[ J^2 s^2]} = = \\frac{ [kg] [m^{2}]}{[s^2]} = [J]\n",
    "\\end{align}\n",
    "\n",
    "Como pueden ver, las unidaes calzan y ahora estamos listos para calcular el potencial de ionización del He$^+$. En este caso tenemos que en el estado fundamental tenemos que: \n",
    "\n",
    "- Z=2, n=1\n",
    "\n",
    "Por lo tanto el potencial de ionización es:\n",
    "\n",
    "\\begin{equation}\n",
    "PI = -E_n = \\frac{Z^2 m_e e'^4}{2n^2\\hbar^2} = \\frac{4 m_e e'^4}{2\\hbar^2} \n",
    "\\end{equation}\n"
   ]
  },
  {
   "cell_type": "code",
   "execution_count": 3,
   "metadata": {},
   "outputs": [
    {
     "name": "stdout",
     "output_type": "stream",
     "text": [
      "El potencial de ionización del He+ es: 8.719489305083364e-18 J \n",
      "El potencial de ionización del He+ es: 54.42277207071928 eV \n",
      "\n",
      "\n",
      "El potencial de ionización del Li2+ es: 1.9618850936437567e-17 J \n",
      "El potencial de ionización del Li2+ es: 122.45123715911838 eV \n"
     ]
    }
   ],
   "source": [
    "def E_n(Z,n):\n",
    "    return -1*(Z**2 * m_e * eprima**4) / (2 * n**2 * hbar**2)\n",
    "\n",
    "print(\"El potencial de ionización del He+ es: {} J \".format(-1*E_n(2,1)))\n",
    "print(\"El potencial de ionización del He+ es: {} eV \".format(-1*E_n(2,1) * qcel.constants.conversion_factor(\"J\" , \"eV\")))\n",
    "print(\"\\n\")\n",
    "print(\"El potencial de ionización del Li2+ es: {} J \".format(-1* E_n(3,1)))\n",
    "print(\"El potencial de ionización del Li2+ es: {} eV \".format(-1*E_n(3,1) * qcel.constants.conversion_factor(\"J\" , \"eV\")))"
   ]
  },
  {
   "cell_type": "markdown",
   "metadata": {},
   "source": [
    "Como pueden ver, es más dificila ionizar el Li2+ que al He+ debido a que el primero tiene una mayor carga nuclear y por lo tanto el electrón está más ligado en ese sistema y requiere mayor energía para removerlo. "
   ]
  },
  {
   "cell_type": "markdown",
   "metadata": {},
   "source": [
    "### Ejercicio 5:\n",
    "\n",
    "Calcule la longitud de onda del fotón emitido cuando un electrón salta desde el nivel n = 3 al n = 2 en el átomo de H. \n",
    "\n",
    "**Solución:**\n",
    "\n",
    "El átomo de hidrógeno tiene infinitos estados ligados que se obtienen solucionando la ecuación de Schrödinger para este sistema. El estado de más baja energía (negativa más grance) es el estado fundamental y los de mayor energía se denominan estados excitado. Los estados excitados pueden ser poblados mediante la energía $h\\nu$ de un fotón que se traspasa al electrón. Si la radiación es de la misma frequencia que la diferencia en energía de dos niveles energéticos se produce una excitación a un estado excitado. De la misma forma, un átomo de hidrógeno en un estado excitado puede volver a un estado de menor energía emitdiendo un fotón de la misma energía que la diferencia entre los niveles de energía. \n",
    "\n",
    "En este ejercicio nos piden calcular la  longitud de onda del fotón emitido cuando pasa de un nivel de mayor energía ($n_1=3$) a uno de menor energía ($n_2=2$). Tenemos que:\n",
    "\n",
    "\\begin{align}\n",
    "\\Delta E(n_1 \\rightarrow n_2) = h\\nu = h\\frac{c}{\\lambda}\n",
    "\\end{align}\n",
    "\n",
    "La diferencia de energía entre estos dos niveles energéticos lo podemos calcular utilizando la expresión de energía del átomo de hidrógeno:\n",
    "\n",
    "\\begin{align}\n",
    "E_n = -\\frac{Z^2}{n^2}\\frac{e'^2}{2a_0} \n",
    "\\end{align}\n",
    "\n",
    "Por lo tanto:\n",
    "\n",
    "\\begin{align}\n",
    "\\Delta E(n_1 \\rightarrow n_2) &= \\Big(-\\frac{Z^2}{n_1^2}\\frac{e'^2}{2a_0}\\Big) - \\Big(-\\frac{Z^2}{n_2^2}\\frac{e'^2}{2a_0}\\Big) \\\\\n",
    "&= \\Big(\\frac{1}{n_2^2} - \\frac{1}{n_1^2}\\Big) \\Big(Z^2\\frac{e'^2}{2a_0}\\Big)\n",
    "\\end{align}\n",
    "\n",
    "Entonces para fines de este ejercicio tenemos que:\n",
    "\n",
    "\\begin{align}\n",
    "\\Delta E(3 \\rightarrow 2)  &= \\Big(\\frac{1}{4} - \\frac{1}{9}\\Big) \\Big(\\frac{e'^2}{2a_0}\\Big) =  \\Big(\\frac{5}{36}\\Big) \\Big(\\frac{e'^2}{2a_0}\\Big)\n",
    "\\end{align}"
   ]
  },
  {
   "cell_type": "code",
   "execution_count": 4,
   "metadata": {},
   "outputs": [],
   "source": [
    "def deltaE(n1,n2,Z):\n",
    "    return (1/n2**2 - 1/n1**2) * (Z**2 * eprima**2 / (2 * a_0)) "
   ]
  },
  {
   "cell_type": "code",
   "execution_count": 5,
   "metadata": {},
   "outputs": [
    {
     "name": "stdout",
     "output_type": "stream",
     "text": [
      "La diferencia entre los niveles de energía n1=3 y n2=2 es: 3.0276004515356724e-19 J\n",
      "La diferencia entre los niveles de energía n1=3 y n2=2 es: 1.8896795847788173 eV\n"
     ]
    }
   ],
   "source": [
    "print('La diferencia entre los niveles de energía n1=3 y n2=2 es: {} J'.format(deltaE(3,2,1)))\n",
    "print('La diferencia entre los niveles de energía n1=3 y n2=2 es: {} eV'.format(deltaE(3,2,1)* qcel.constants.conversion_factor(\"J\" , \"eV\")))"
   ]
  },
  {
   "cell_type": "markdown",
   "metadata": {},
   "source": [
    "Por último podemos despejar la longitude de onda de la primer ecuación:\n",
    "\n",
    "\\begin{align}\n",
    " \\lambda= \\frac{hc}{\\Delta E(n_1 \\rightarrow n_2)} \n",
    "\\end{align}\n"
   ]
  },
  {
   "cell_type": "code",
   "execution_count": 10,
   "metadata": {},
   "outputs": [
    {
     "name": "stdout",
     "output_type": "stream",
     "text": [
      "La longitud de onda de la radiación emitida es: 6.561122763620228e-07 nm\n"
     ]
    }
   ],
   "source": [
    "lam = h * c / deltaE(3,2,1)\n",
    "print('La longitud de onda de la radiación emitida es: {} nm'.format(lam))\n"
   ]
  },
  {
   "cell_type": "markdown",
   "metadata": {},
   "source": [
    "### Ejercicio 6 \n",
    "\n",
    "Calcule la diferencia energética entre los primeros dos estados de un átomo de He + , suponiendo que durante la transición de un estado a otro se liberase un fotón, ¿que longitud de onda tendrı́a?\n",
    "\n",
    "**Solución**"
   ]
  },
  {
   "cell_type": "code",
   "execution_count": 7,
   "metadata": {},
   "outputs": [
    {
     "name": "stdout",
     "output_type": "stream",
     "text": [
      "La longitud de onda de la radiación emitida es: 121.5 nm\n"
     ]
    }
   ],
   "source": [
    "lam = h * c / deltaE(2,1,1)\n",
    "print('La longitud de onda de la radiación emitida es: {} nm'.format(np.round(lam*1e9, 1)))"
   ]
  },
  {
   "cell_type": "markdown",
   "metadata": {},
   "source": [
    "### Ejercicio 7\n",
    "\n",
    "La siguiente reacción puede suceder dentro de una estrella.\n",
    "\n",
    "- He$^{2+}$ + H $\\rightarrow$ He$^+$ + H$^+$\n",
    "\n",
    "¿Calcule el cambio de energı́a electrónica de la reacción, si es que todas las especies se encuentran en su estado fundamental.\n",
    "\n",
    "**Solución**:\n",
    "\n",
    "Para calcular la energía electrónica liberada en el proceso debemos calcular la diferencia entre energía electrónica entre los reactantes y los productos. \n",
    "\n",
    "\\begin{align}\n",
    "\\Delta E_{elec} &= (E(\\text{He}^{+}) + E(\\text{H}^{+}) -   (E(\\text{He}^{2+}) + E(\\text{H}))\\\\\n",
    "&= E(\\text{He}^{+}) -  E(\\text{H})\\\\\n",
    "\\end{align}\n",
    "\n",
    "Esto porque ni el H$^+$ o el He$^{2+}$ tienen un electrón y por ende su energía electrónica es zero. Por lo tanto podemos calcular la diferencia en energía entre esos dos átomos hidrogenoides en su estado fundamental:\n",
    "\n",
    "\\begin{align}\n",
    "\\Delta E_{elec} = -\\frac{4 m_e e'^4}{2\\hbar^2} + \\frac{m_e e'^4}{2\\hbar^2}\n",
    "\\end{align}\n",
    "\n",
    "Reemplazondo las constantes obtenemos:"
   ]
  },
  {
   "cell_type": "code",
   "execution_count": 11,
   "metadata": {},
   "outputs": [
    {
     "name": "stdout",
     "output_type": "stream",
     "text": [
      "El cambio en energía electrónica es: -6.539616978812522e-18 J\n",
      "El cambio en energía electrónica es: -40.81707905303946 eV\n"
     ]
    }
   ],
   "source": [
    "dEelec = E_n(2,1) - E_n(1,1)\n",
    "print('El cambio en energía electrónica es: {} J'.format(dEelec))\n",
    "print('El cambio en energía electrónica es: {} eV'.format(dEelec * qcel.constants.conversion_factor(\"J\" , \"eV\")))"
   ]
  },
  {
   "cell_type": "markdown",
   "metadata": {},
   "source": [
    "Por lo tanto, en esa reacción estelar se liberan aproximadamente 41 eV de energía electrónica, lo cual es irrelevante en comparación con el cambio de energía nuclear en esta reacción. "
   ]
  },
  {
   "cell_type": "code",
   "execution_count": null,
   "metadata": {},
   "outputs": [],
   "source": []
  }
 ],
 "metadata": {
  "kernelspec": {
   "display_name": "Python 3",
   "language": "python",
   "name": "python3"
  },
  "language_info": {
   "codemirror_mode": {
    "name": "ipython",
    "version": 3
   },
   "file_extension": ".py",
   "mimetype": "text/x-python",
   "name": "python",
   "nbconvert_exporter": "python",
   "pygments_lexer": "ipython3",
   "version": "3.7.7"
  }
 },
 "nbformat": 4,
 "nbformat_minor": 4
}
