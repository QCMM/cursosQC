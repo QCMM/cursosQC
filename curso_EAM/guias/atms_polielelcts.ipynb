{
 "cells": [
  {
   "cell_type": "code",
   "execution_count": 15,
   "metadata": {},
   "outputs": [
    {
     "ename": "ModuleNotFoundError",
     "evalue": "No module named 'sympy'",
     "output_type": "error",
     "traceback": [
      "\u001b[0;31m---------------------------------------------------------------------------\u001b[0m",
      "\u001b[0;31mModuleNotFoundError\u001b[0m                       Traceback (most recent call last)",
      "\u001b[0;32m<ipython-input-15-4be558161582>\u001b[0m in \u001b[0;36m<module>\u001b[0;34m\u001b[0m\n\u001b[1;32m      1\u001b[0m \u001b[0;32mimport\u001b[0m \u001b[0mqcelemental\u001b[0m \u001b[0;32mas\u001b[0m \u001b[0mqcel\u001b[0m\u001b[0;34m\u001b[0m\u001b[0;34m\u001b[0m\u001b[0m\n\u001b[1;32m      2\u001b[0m \u001b[0;32mimport\u001b[0m \u001b[0mnumpy\u001b[0m \u001b[0;32mas\u001b[0m \u001b[0mnp\u001b[0m\u001b[0;34m\u001b[0m\u001b[0;34m\u001b[0m\u001b[0m\n\u001b[0;32m----> 3\u001b[0;31m \u001b[0;32mfrom\u001b[0m \u001b[0msympy\u001b[0m \u001b[0;32mimport\u001b[0m \u001b[0;34m*\u001b[0m\u001b[0;34m\u001b[0m\u001b[0;34m\u001b[0m\u001b[0m\n\u001b[0m\u001b[1;32m      4\u001b[0m \u001b[0;32mfrom\u001b[0m \u001b[0mscipy\u001b[0m \u001b[0;32mimport\u001b[0m \u001b[0mintegrate\u001b[0m \u001b[0;32mas\u001b[0m \u001b[0mintegracion_num\u001b[0m\u001b[0;34m\u001b[0m\u001b[0;34m\u001b[0m\u001b[0m\n\u001b[1;32m      5\u001b[0m \u001b[0;32mimport\u001b[0m \u001b[0mmatplotlib\u001b[0m\u001b[0;34m.\u001b[0m\u001b[0mpyplot\u001b[0m \u001b[0;32mas\u001b[0m \u001b[0mplt\u001b[0m\u001b[0;34m\u001b[0m\u001b[0;34m\u001b[0m\u001b[0m\n",
      "\u001b[0;31mModuleNotFoundError\u001b[0m: No module named 'sympy'"
     ]
    }
   ],
   "source": [
    "import qcelemental as qcel\n",
    "import numpy as np\n",
    "from sympy import *\n",
    "from scipy import integrate as integracion_num\n",
    "import matplotlib.pyplot as plt\n",
    "\n",
    "c = qcel.constants.c\n",
    "h = qcel.constants.h\n",
    "me= qcel.constants.me\n",
    "pi = np.pi\n",
    "avog = qcel.constants.get(\"Avogadro constant\")\n",
    "J2kJmol = avog/1000"
   ]
  },
  {
   "cell_type": "markdown",
   "metadata": {},
   "source": [
    "### Ejercicio 1:\n",
    "\n",
    "Demuestre que la energı́a de la función de onda:\n",
    "\n",
    "\\begin{equation*}\n",
    "        \\psi_{100}(r)\\alpha = 1s(r)\\alpha\n",
    "\\end{equation*}\n",
    "\n",
    "Es función propia del Hamiltoniano del átomo de hidrógeno.\n",
    "\n",
    "**Solución:** \n",
    "\n",
    "Ya sabemos que la función $\\psi_{100}(r)$ es función propio del operador Hamiltoniano. Tal que:\n",
    "\n",
    "\\begin{equation*}\n",
    "        \\hat{H}\\psi_{100}(r) = E_n\\psi_{100}(r)\n",
    "\\end{equation*}\n",
    "\n",
    "Entonces la consideración más importante para este ejercicio es que el operador Hamiltoniano no relativista no opera (no modifica) las funciones de spin. Si lo hace por ejemplo el Hamiltoniano relativista en la ecuación de Dirac:\n",
    "\n",
    "\\begin{equation*}\n",
    "\\left(\\beta mc^2 + c \\sum_{n \\mathop =1}^{3}\\alpha_n p_n\\right) \\psi (x,t) = i \\hbar \\frac{\\partial\\psi(x,t) }{\\partial t}\n",
    "\\end{equation*}\n",
    "\n",
    "Donde $\\beta$ es un operador de spin.\n",
    "\n",
    "Teniendo eso en consideración podemos escribir:\n",
    "\n",
    "\\begin{equation*}\n",
    "        \\hat{H}\\psi_{100}(r)\\alpha = \\alpha\\hat{H}\\psi_{100}(r) = E_n\\psi_{100}(r)\\alpha\n",
    "\\end{equation*}\n",
    "\n",
    "Por lo tanto agregar una función de spin a la función de onda no afecta la energía pero si afecta el grado de degeneración del nivel de energía que aumenta al doble. \n",
    "\n",
    "\n",
    "\n"
   ]
  },
  {
   "cell_type": "markdown",
   "metadata": {},
   "source": [
    "### Ejercicio 2:\n",
    "\n",
    "Demuestre que la función de onda aproximada para el átomo de Helio:\n",
    "\n",
    "\\begin{equation*}\n",
    "        \\psi_{100}(r) = 1s(1)1s(2)\n",
    "\\end{equation*}\n",
    "\n",
    "Es función propia del Hamiltoniano:\n",
    "\n",
    "\\begin{equation*}\n",
    "        \\hat{H} = \\hat{H_1} + \\hat{H_2}\n",
    "\\end{equation*}\n",
    "\n",
    "Donde:\n",
    "\n",
    "\\begin{equation*}\n",
    "        \\hat{H_1} = -\\frac{\\hbar^2}{2m_e}\\nabla_1^2 - \\frac{Ze'^2}{r_1} \\qquad \\hat{H_2} = -\\frac{\\hbar^2}{2m_e}\\nabla_1^2 - \\frac{Ze'^2}{r_2}\n",
    "\\end{equation*}\n",
    "\n"
   ]
  },
  {
   "cell_type": "markdown",
   "metadata": {},
   "source": [
    "**Solución:**\n",
    "\n",
    "Para demostrar que una función es función propia del operador, debemos aplicar el operador a la función y ver si recuperamos la misma función más el operador. Una cosa importante a tener en cuenta para este ejercicio es que sabemos que sabemos que las funciones por si solas son funciones propias del los operadores $\\hat{H_1} y \\hat{H_2}$:\n",
    "\n",
    "\\begin{align*}\n",
    "       \\hat{H_1}1s(1) = E_1 1s(1) \\\\\n",
    "       \\hat{H_2}1s(2) = E_2 1s(2)\n",
    "\\end{align*}\n",
    "\n",
    "Porque los operadores $\\hat{H_1} y \\hat{H_2}$ son  hamiltonianos  del átomo de hidrógeno. Por lo tanto podemos proceder a la demostración:\n",
    "\n",
    "\\begin{align*}\n",
    "   \\hat{H_1} + \\hat{H_2}(1s(1)1s(2)) &= \\hat{H_1}1s(1)1s(2)) + \\hat{H_2}(1s(1)1s(2))\\\\\n",
    "                                     &= 1s(2)\\hat{H_1}1s(1)) + 1s(1)\\hat{H_2}(1s(2))\\\\\n",
    "                                     &= 1s(2)E_1 1s(1)) + 1s(1)E_1 1s(2))\\\\ \n",
    "                                     &= 2E_1 (1s(1)1s(2))\n",
    "\\end{align*}\n",
    "\n",
    "Por lo tanto la función de onda propuesta es función propia del Hamiltoniano aproximado que ignora las interacciones electrón-electrón. Y el valor propio es la suma de las energía de cada función. En este modelo los electrones no saben de la existencia del otro electrón y se comportan como si están en un átomo hidrogenoide con Z=2. Por último notese que los Hamiltonianos solamente operan sobre las funciones de sus coordenadas, en otras palabras el hamiltoniano $\\hat{H_1}$ solamente opera sobre las cooredenadas en la función 1s(1) y la función 1s(2) no se altera (La trata como una constante). \n"
   ]
  },
  {
   "cell_type": "markdown",
   "metadata": {},
   "source": [
    "###  Ejercicio 4\n",
    "\n",
    "Utilice la función de prueba:\n",
    "\n",
    "\\begin{equation*}\n",
    "        \\phi = x(l-x)\n",
    "\\end{equation*}\n",
    "\n",
    "Para encontrar una energía aproximada de la partícula en una caja  1-D a través de la integral variacional:\n",
    "\n",
    "\\begin{equation*}\n",
    "W = \\frac{\\int\\phi^* \\hat{H} \\phi d\\tau}{\\int\\phi^*\\phi d\\tau}\n",
    "\\end{equation*}"
   ]
  },
  {
   "cell_type": "markdown",
   "metadata": {},
   "source": [
    "**Solución:**\n",
    "\n",
    "Recordemos que las posibles funciones de estado de una particula en la caja 1D se obtienen al resolver la ecuación de Schrördinger:\n",
    "\n",
    "$$\n",
    "\\begin{align}\n",
    "\\hat{H}\\Psi(x) = E\\Psi(x)\\\\\n",
    "-\\frac{\\hbar²}{2m}\\frac{d^2}{dx^2}\\Psi(x) = E\\Psi(X)\n",
    "\\end{align}\n",
    "$$\n",
    "\n",
    "Esta es una ecuación diferencial de segundo orden, para la cual es posible encontrar \n",
    "soluciones exactas, para una partícula en una caja de largo $L$ y masa $m$.\n",
    "\n",
    "\n",
    "$$\n",
    "\\begin{align}\n",
    "\\Psi(x) = \\sqrt{\\frac{2}{L}}\\sin{\\frac{n\\pi x}{L}} \\qquad E_n = \\frac{n^2h}{8mL^2}\n",
    "\\end{align}\n",
    "$$\n",
    "\n",
    "En este ejercicio queremos evaluarl la factibilidad de utilizar una función de prueba y evaluar si es factible utilizarla para obtener una energía aproximada de la partícula en una caja a través de la integral variacional:\n",
    "\n",
    "Primero visualizemos ambas funciones, la exacta y aproximada para ver si son similares."
   ]
  },
  {
   "cell_type": "code",
   "execution_count": 23,
   "metadata": {},
   "outputs": [],
   "source": [
    "def psi(x,l):\n",
    "    return np.sqrt(2/l)*np.sin(np.pi*x/l)\n",
    "\n",
    "def phi(x,l):\n",
    "    return x*(l - x)"
   ]
  },
  {
   "cell_type": "code",
   "execution_count": 24,
   "metadata": {},
   "outputs": [
    {
     "data": {
      "image/png": "[encoded data removed]",
      "text/plain": [
       "<Figure size 432x288 with 1 Axes>"
      ]
     },
     "metadata": {
      "needs_background": "light"
     },
     "output_type": "display_data"
    }
   ],
   "source": [
    "L = 1.0\n",
    "x = np.linspace(0,L,100)\n",
    "plt.ylabel(r\"$\\|\\psi(x)|^2$\")\n",
    "plt.xlabel(r\"$x$\")\n",
    "#for i in range(0,5):\n",
    "plt.plot(x,psi(x,L), label=r'$\\psi(x)$');\n",
    "plt.plot(x,phi(x,L), label=r'$\\phi(x)$');\n",
    "plt.legend();\n"
   ]
  },
  {
   "cell_type": "markdown",
   "metadata": {},
   "source": [
    "Como podemos ver las funciones son similares en forma pero tienen una altura distinta\n",
    "porque la función $\\phi(x)$ no está normalizada. Procedamos entonces a calcular la integral variacional:\n",
    "\n",
    "\\begin{align}\n",
    "\\int\\phi^* \\hat{H} \\phi d\\tau &= \\int_0^l x(l-x) \\left(-\\frac{\\hbar^2}{2m}\\frac{d^2}{dx^2}\\right)x(l-x)dx \\\\\n",
    " &= -\\frac{\\hbar^2}{2m}\\int_0^l (xl-x^2) \\left(\\frac{d^2}{dx^2}\\right) (xl-x^2)dx \\\\\n",
    "&= -\\frac{\\hbar^2}{2m}\\int_0^l (xl-x^2) 2dx \\\\\n",
    "&= -\\frac{\\hbar^2}{m}\\left(l\\int_0^l x dx - \\int_0^l x^2 dx\\right) \\\\\n",
    "\\end{align}\n",
    "\n",
    "Considerando que:\n",
    "\n",
    "\\begin{align}\n",
    "\\int_a^b x^ndx = \\frac{x^{n+1}}{n+1}\\bigg\\rvert_a^b\n",
    "\\end{align}\n",
    "\n",
    "\\begin{align}\n",
    "\\int\\phi^* \\hat{H} \\phi d\\tau \n",
    "&= -\\frac{\\hbar^2}{m}\\left(l\\frac{x^2}{2}\\bigg\\rvert_0^l - \\frac{x^3}{3}\\bigg\\rvert_0^l \\right) \\\\\n",
    "&= -\\frac{\\hbar^2}{m}\\left(\\frac{l^3}{2} - \\frac{l^3}{3} \\right) \\\\\n",
    "&=\\frac{\\hbar^2 l^3}{6m}\n",
    "\\end{align}\n",
    "\n",
    "La integral del denominador es:\n",
    "\n",
    "\\begin{align}\n",
    "\\int\\phi^* \\phi d\\tau &=  \\int_0^l x^2(l-x)^2 dx \\\\ \n",
    "                       &=  \\int_0^l x^2l^2 dx -  \\int_0^l 2lx^3 dx  + \\int_0^l x^4 dx \\\\ \n",
    "                      &= \\frac{l^5}{30}\n",
    "\\end{align}\n",
    "\n",
    "Juntando ambas integrales obtenemos el siguiente valor de la integral variacional:\n",
    "\n",
    "\\begin{align}\n",
    "W &= \\frac{\\int\\phi^* \\hat{H} \\phi d\\tau}{\\int\\phi^* \\phi d\\tau} \\\\\n",
    "  &= \\frac{\\hbar^2 l^3 / 6m}{l^5/30} = \\frac{5h^2}{4\\pi ml^2}\n",
    "  &= 0.1266515\\frac{h^2}{ml^2}\n",
    "\\end{align}\n",
    "\n",
    "Comparando con la energía exacta de la partícula en una caja 1-D de largo $l$ obtenemos que:\n",
    "\n",
    "$$ W > E_1 $$\n",
    "\n",
    "Justamente lo que predicie el teorema variacional. Además el porcentaje de error es muy pequeño ya que la energía exacta es:\n",
    "\n",
    "\\begin{align}\n",
    " E_1 = \\frac{h^2}{8ml^2} = 0.125 \\frac{h^2}{ml}\n",
    "\\end{align}\n",
    "\n",
    "Solamente 1.3% de error! Finalmente visualicemos las ambas funciones normalizadas considerando que la condición de normalización:\n",
    "\n",
    "\\begin{align}\n",
    " \\int_0^l N\\phi^* N\\phi dx = 1 \\\\\n",
    " N^2\\int_0^l \\phi^* \\phi dx = 1 \\\\\n",
    " N = \\sqrt{\\frac{1}{\\int_0^l \\phi^* \\phi dx}} \\\\\n",
    "   = \\sqrt{\\frac{1}{l^5/30}} = \\sqrt{\\frac{30}{l^5}}\n",
    "\\end{align}\n",
    "\n",
    "Por lo tanto la función de prueba normalizada es:\n",
    "\n",
    "\\begin{equation*}\n",
    "        \\phi =  \\sqrt{\\frac{30}{l^5}}x(l-x)\n",
    "\\end{equation*}\n",
    "\n",
    "Visualicemos nuevamente ambas funciones de onda:\n",
    "\n"
   ]
  },
  {
   "cell_type": "code",
   "execution_count": 26,
   "metadata": {},
   "outputs": [
    {
     "data": {
      "image/png": "[encoded data removed]",
      "text/plain": [
       "<Figure size 432x288 with 1 Axes>"
      ]
     },
     "metadata": {
      "needs_background": "light"
     },
     "output_type": "display_data"
    }
   ],
   "source": [
    "def phi_N(x,l):\n",
    "    return np.sqrt(30./l**5.) * x * (l - x)\n",
    "\n",
    "L = 1.0\n",
    "x = np.linspace(0,L,100)\n",
    "plt.ylabel(r\"$\\|\\psi(x)|^2$\")\n",
    "plt.xlabel(r\"$x$\")\n",
    "#for i in range(0,5):\n",
    "plt.plot(x,psi(x,L), label=r'$\\psi(x)$');\n",
    "plt.plot(x,phi_N(x,L), label=r'$\\phi(x)$');\n",
    "plt.legend();"
   ]
  },
  {
   "cell_type": "markdown",
   "metadata": {},
   "source": [
    "Podemos ver que la coincidencia entre ambas funciones, la exacta y la función de prueba es casi perfecta! Por lo tanto en el método variacional es importante encontrar una función de prueba que sea lo más similar posible a al sistema exacto. Sin embargo la mayoría de las veces no se conoce la función de onda exacta y por lo tanto uno debe encontrar funciones de onda aproxiamadas que son exacata para una sistema similar al cual se quiere resolver por ejemplo la función de onda aproximada del ejercicio 1, es exactat para un átomo de helio donde los electrones no interactuan. Entonces ese es un buen punto de partida para ir mejorando la función de onda incluyendo paramentros variacionales. "
   ]
  },
  {
   "cell_type": "markdown",
   "metadata": {},
   "source": [
    "### Ejercicio 4:\n",
    "\n",
    "Escriba todas las integrales que se deben calcular al utilizar el método variacional con la función de onda aproximada:\n",
    "\\begin{equation*}\n",
    "        \\psi(r_1,r_2) = \\pi^{-1}\\frac{\\alpha}{a_0}e^{-Zr_1/a_0}e^{-Zr_2/a_0}\n",
    "\\end{equation*}\n",
    "La integral variacional es:\n",
    "\\begin{equation*}\n",
    "        W = \\int_0^\\infty\\int_0^{\\pi}\\int_0^{2\\pi}\\int_0^\\infty\\int_0^{\\pi}\\int_0^{2\\pi}\\psi(r_1,r_2)\\hat{H}\\psi(r_1,r_2)r_1^2r_2^2dr_1dr_2sen(\\theta_1)sen(\\theta_2)d\\theta_1d\\theta_2 d\\phi_1 d\\phi_2\n",
    "\\end{equation*}\n"
   ]
  },
  {
   "cell_type": "markdown",
   "metadata": {},
   "source": [
    "### Ejercicio 9:\n",
    "\n",
    "Las reglas para obtener la constante de apantallamiento del i-ésimo electrón son las siguientes:\\\\\n",
    "\n",
    "A) Escribir la configuración electrónica de un átomo por capas:\n",
    "        (1s)(2s2p)(3s3p)(4s4p)(4d)(4f)(5s5p)... \\\\\n",
    "\n",
    "B) Identificar el grupo del electrón i-ésimo y obtener $\\sigma$, como la suma de las siguientes\n",
    "contribuciones:\n",
    "\n",
    "- 0.0 por cada electrón a la derecha\n",
    "- 0.35 por cada electrón adicional en el mismo grupo que se encuentra el i-ésimo\n",
    "- si $i$ es un electrón $s$ o $p$, 0.85 por cada electrón en los grupos con $n = n_i - 1$ por todos los electrones más a la izquierda.\n",
    "-  si $i$ es un electrón $d$ o $f$, 1.00 por cada electrón en los grupos con $n = n_i - 1$.  1.00 por todos los electrones más a la izquierda.\n",
    "\n",
    "Calcule la constante de apantallamiento de los siguientes átomos: O(2s), Cl(3p), Fe(3d), Ge(3s)\n"
   ]
  },
  {
   "cell_type": "markdown",
   "metadata": {},
   "source": [
    "**Solución:**\n",
    "\n",
    "El el tratamiento exacto del átomo de helio, los electrones son atraidos por un nucleo de carga nuclear Z=2 y al mismo tiempo se repelen mutuamente por sus cargas iguales negativas. Podemos perservar el modelo de electrones independiente sustiuyendo la repulsión interelectronica por una atracción menor del nucleó positivo. En el caso del átomo de helio esto se traduce a una atracción nuclear con una carga nuclear efectiva:\n",
    "\n",
    "$$ Z_eff = Z -\\sigma $$\n",
    "\n",
    "donde $\\sigma$ es una constante de apantallamiento nuclear. Esta constante depende del orbital en al cual se encuentra el electrón y naturalmente será mayor para electrones en el orbital 2s que electrones en el orbital 1s.\n",
    "\n"
   ]
  },
  {
   "cell_type": "code",
   "execution_count": 76,
   "metadata": {},
   "outputs": [],
   "source": [
    "import matplotlib.pyplot as plt\n",
    "import numpy as np\n",
    "from matplotlib import cm, colors\n",
    "from mpl_toolkits.mplot3d import Axes3D\n",
    "from scipy.special import sph_harm\n",
    "%matplotlib inline\n",
    "import scipy\n",
    "\n",
    "\n",
    "a0=1.\n",
    "\n",
    "def R_sq(r,n,l):\n",
    "    R = -np.math.factorial(n+l)*np.sqrt(np.math.factorial(n-l-1)/(2*n*(np.math.factorial(n+l))**3)) * (2/(a0*n))**(l+3/2) * r**l * np.exp(-r/(n*a0)) * scipy.special.genlaguerre(n-l-1,2*l+1)(2*r/(n*a0))\n",
    "    return R**2\n",
    "\n",
    "def disRad(r,n,l):\n",
    "    return R_sq(r,n,l)*(r**2)"
   ]
  },
  {
   "cell_type": "code",
   "execution_count": 74,
   "metadata": {},
   "outputs": [
    {
     "data": {
      "image/png": "[encoded data removed]",
      "text/plain": [
       "<Figure size 432x288 with 1 Axes>"
      ]
     },
     "metadata": {
      "needs_background": "light"
     },
     "output_type": "display_data"
    }
   ],
   "source": [
    "r1 = np.linspace(0,25,1000)\n",
    "\n",
    "\n",
    "\n",
    "plt.xlabel(\"r\")\n",
    "plt.ylabel(\"$r^2R^2$\")\n",
    "plt.plot(r1, disRad(r1,1,0), label='1s')\n",
    "plt.plot(r1, disRad(r1,2,0), label='2s')\n",
    "plt.plot(r1, disRad(r1,3,0), label='3s')\n",
    "plt.legend();\n",
    "\n",
    "\n"
   ]
  },
  {
   "cell_type": "markdown",
   "metadata": {},
   "source": [
    "Pueden ver que los máximos en la distribución radial se encuentran en posiciones distintas, con el máximo de la función 3s estando mucho más alejado que el de la función 1s. Esto significa que el apantallamiento de los electrones 1s a los 3s va ser muy eficiente. \n",
    "\n",
    "En tanto si visualizamos los orbitales 2s y 2p:"
   ]
  },
  {
   "cell_type": "code",
   "execution_count": 75,
   "metadata": {},
   "outputs": [
    {
     "data": {
      "image/png": "[encoded data removed]",
      "text/plain": [
       "<Figure size 432x288 with 1 Axes>"
      ]
     },
     "metadata": {
      "needs_background": "light"
     },
     "output_type": "display_data"
    }
   ],
   "source": [
    "plt.xlabel(\"r\")\n",
    "plt.ylabel(\"$r^2R^2$\")\n",
    "plt.plot(r1, disRad(r1,2,0), label='2s')\n",
    "plt.plot(r1, disRad(r1,2,1), label='2p')\n",
    "plt.legend();\n"
   ]
  },
  {
   "cell_type": "markdown",
   "metadata": {},
   "source": [
    "Vemos que el máximo en la distribción coincide por lo que el apantallamiento no es muy eficiente.\n",
    "Basado en estas observaciones acerca de las distribuciones radiales de los electrones, Slater \n",
    "propuso una serie de reglas empíricas que permiten obtener una constante de apantallamiento \n",
    "aproximada sin la necesidad de hacer un calculo con el método variacional. Calculemos entonces la constante de apantallamiento de un electron 2s del Oxígeno:\n",
    "\n",
    "Primero debemos escribir la configuración electrónica por capas:\n",
    "\n",
    "$$ O: 1s^22s^2 2p^4 = (1s)^2 (2s2p)^6$$\n",
    "\n",
    "Calculamos entonces el apantallamiento de los electrones en la misma capa. Son 6 los electrones en la capa dos por lo tanto debemos considerar el apantallamiento de 5 electrones:\n",
    "\n",
    "$$ \\sigma = 5*0.35 $$\n",
    "\n",
    "Despues debemos considerar el apantallamiento de  los electrones 1s. Estos caen en la categoria de capas interirores por lo cual se aplica la tercera regla y se le asigna un valor de 0.85 a cada uno. Por lo tanto la constante de apantallamiento queda como:\n",
    "\n",
    "$$ \\sigma = 5*0.35 + 2*0.85 = 3.45$$\n",
    "\n",
    "Por lo tanto la carga nuclear efectiva de este átomo es:\n",
    "\n",
    "$$ Z_{eff} = 8 - 3.45 = 4.55 $$"
   ]
  },
  {
   "cell_type": "markdown",
   "metadata": {},
   "source": [
    "### Ejercicio 14:\n",
    "\n",
    "La primera energia de ionizacion de Li en su estado fundamental es 519 kJ/mol.  Calcule el valor de $Z_{eff}.\n",
    "\n",
    "**Solucion:**:  Sabembos que para átomos polielectrónicos podemos aproximar la energía de cada orbital como:\n",
    "\n",
    "$$ \\epsilon  = -\\frac{Z_{eff}^2}{n^2} (13.6 \\text{ eV}) $$\n",
    "\n",
    "Además como vimos en clases, el potencial de ionización es la energía necesaria para extraer el electrón de más alta energía. En el caso del átomo de Li, de configuración electrónica 1s²2s¹ el electrón de más alta energía corresponde a un estado tipo 2s por lo tanto el potencial de ionziación esta dada por la energía de ese electrón con n = 2 que es:\n",
    "\n",
    "$$ IP = -\\epsilon  = \\frac{Z_{eff}^2}{4}(13.6 \\text{ eV}) $$ \n",
    "\n",
    "El enunciado nos indica que el potencial de ionización es 519 kJ/mol. Por lo tanto tenemos que:\n",
    "\n",
    "$$ 519 \\text{ kJ/mol} =  \\frac{Z_{eff}^2}{4} $$\n",
    "\n",
    "$$ Z_eff = -\\frac{519 \\text{ kJ/mol} \\text{ x } (6.626 x 10^{23})^{-1} \\text{ mol} \\text{ x } 6.241 x 10^{21} \\text{ ev/KJ}}{4} $$\n",
    "\n"
   ]
  },
  {
   "cell_type": "code",
   "execution_count": 14,
   "metadata": {},
   "outputs": [
    {
     "name": "stdout",
     "output_type": "stream",
     "text": [
      "El Zeff del atomo de Litio es: 1.34 \n"
     ]
    }
   ],
   "source": [
    "Zeff =  519 * qcel.constants.conversion_factor(\"kJ/mol\" , \"eV\")/4\n",
    "print('El Zeff del atomo de Litio es: {} '.format(np.round(Zeff,2)))"
   ]
  },
  {
   "cell_type": "code",
   "execution_count": null,
   "metadata": {},
   "outputs": [],
   "source": []
  }
 ],
 "metadata": {
  "kernelspec": {
   "display_name": "Python 3",
   "language": "python",
   "name": "python3"
  },
  "language_info": {
   "codemirror_mode": {
    "name": "ipython",
    "version": 3
   },
   "file_extension": ".py",
   "mimetype": "text/x-python",
   "name": "python",
   "nbconvert_exporter": "python",
   "pygments_lexer": "ipython3",
   "version": "3.7.7"
  }
 },
 "nbformat": 4,
 "nbformat_minor": 4
}
