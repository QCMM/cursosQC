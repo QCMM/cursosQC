{
 "cells": [
  {
   "cell_type": "markdown",
   "metadata": {},
   "source": [
    "## Desarollos guía: Particula en una caja 1D"
   ]
  },
  {
   "cell_type": "code",
   "execution_count": 2,
   "metadata": {},
   "outputs": [],
   "source": [
    "import qcelemental as qcel\n",
    "import numpy as np\n",
    "from sympy import *\n",
    "from scipy import integrate as integracion_num\n",
    "\n",
    "c = qcel.constants.c\n",
    "h = qcel.constants.h\n",
    "me= qcel.constants.me\n",
    "hbar =qcel.constants.hbar\n",
    "pi = np.pi\n",
    "avog = qcel.constants.get(\"Avogadro constant\")\n",
    "J2kJmol = avog/1000"
   ]
  },
  {
   "cell_type": "markdown",
   "metadata": {},
   "source": [
    "### Ejercicio 1\n",
    "\n",
    "¿Cuál de las siguientes funciones son funciones propias de los operadores? \n",
    "\n",
    "$$ \\hat{A} = \\frac{d}{dx} \\qquad \\hat{B} = \\frac{d^2}{dx^2}$$\n",
    "\n",
    "$$ e^{ax} \\quad e^{ax^2}\\quad x^2 \\quad \\sin(x) $$\n",
    "\n",
    "\n",
    "    "
   ]
  },
  {
   "cell_type": "markdown",
   "metadata": {},
   "source": [
    "**Solución:**\n",
    "\n",
    "Recordemos que una función es función propia de un operador si se cumple que:\n",
    "\n",
    "\\begin{equation} \\hat{A}f(x) = af(x), \\end{equation}\n",
    "\n",
    "donde $\\hat{A}$ corresponde a un operador y $a$ es un escalar.  \n",
    "El primer operador es el operador que analizamos el el operadaor primera derivada. Por lo tanto solamente las funciones que no se ven modificadas en su forma serán funciones propias del operador. Eso solamente se cumple para la función $e^{ax}$ ya que:\n",
    "\n",
    "$$ \\frac{d}{dx}e^{ax} = ae^{ax} $$\n",
    "\n",
    "Comparando con la ecuación (1) claramente se cumple la condición de función propia. Para el operador segundo derivada tenenmos el siguiente resultado:\n",
    "\n",
    "$$ \\frac{d^2}{dx^2}e^{ax} = \\frac{d}{dx}ae^{ax} = a²e^{ax} \\quad\\text{Valor Propio = } a² $$\n",
    "$$ \\frac{d^2}{dx^2}e^{ax^2} = \\frac{d}{dx}2axe^{ax²} = 2ae^{ax²} + 2a²e^{ax²} \\quad\\text{No es función propia} $$\n",
    "$$ \\frac{d^2}{dx^2}x^2 = 0 \\quad \\text{No es función propia}$$\n",
    "$$ \\frac{d^2}{dx^2}\\sin(x) = \\frac{d}{dx}\\cos(x) = -\\sin(x) \\quad\\text{Valor Propio = } -1$$\n"
   ]
  },
  {
   "cell_type": "markdown",
   "metadata": {},
   "source": [
    "### Ejercicio 2\n",
    "\n",
    "Construya los operadores mecano-cuánticos para los siguientes observables:\n",
    "\n",
    "(a) Energía cinética en tres dimensiones\n",
    "\n",
    "(b) La distancia inversa\n",
    "\n",
    "(c) El momento dipolar electrico\n"
   ]
  },
  {
   "cell_type": "markdown",
   "metadata": {},
   "source": [
    "**Solución:**\n",
    "\n",
    "Según el tercer postulado de la mecánica cuántica, es posible construir cualquier operador mecano-cuántico a partir de los operadores de posición y momentum:\n",
    "\n",
    "$$ \\hat{x} = x \\qquad \\hat{p_x} = -i\\hbar\\frac{d}{dx} $$\n",
    "\n",
    "Estos operadores se reemplazan en la expresión clásica del observable y de esa forma se obtiene el operador.\n",
    "Por ejemplo la energía cinética en tres dimensiones está dada por:\n",
    "\n",
    "$$ E = E_x + E_y + E_z = \\frac{p_x^2}{2m} + \\frac{p_y^2}{2m}  +\\frac{p_z^2}{2m}  $$\n",
    "\n",
    "Por lo tanto en este caso debemos reemplazar el momento lineal por el operador momento lineal para poder obenter el operador cuántico, lo hacemos para una dimensión solamente ya que la expresión es igual para las tres dimensiones.\n",
    "\n",
    "$$\\hat{T_x} = \\frac{(-i\\hbar\\frac{d}{dx})²}{2m} = i²\\frac{\\hbar²}{2m}\\frac{d²}{dx²} = -\\frac{\\hbar²}{2m}\\frac{d²}{dx²} $$\n",
    "\n",
    "Finalemnte:\n",
    "\n",
    "$$\\hat{T} = \\hat{T_x} + \\hat{T_y} + \\hat{T_z} = -\\frac{\\hbar²}{2m}\\frac{d²}{dx²}  -\\frac{\\hbar²}{2m}\\frac{d²}{dy²} -\\frac{\\hbar²}{2m}\\frac{d²}{dz²} $$ \n",
    "\n",
    "\n",
    "*(b)*  La distancia inversa simplemente corresponde al operador:\n",
    "\n",
    "$$ 1/\\hat{x} $$\n",
    "\n",
    "Cabe mencionar que el postulado 3 aplica una posición en cualquier set de coordandas, pueden ser cartesianes ($x,y,z$) o polares ($r, \\theta, \\phi$)\n",
    "\n",
    "*(c)* El momento diplar electrico  está definido por la distribución de cargas en el espacio. En el caso de cargas puntuales tenemos que:\n",
    "\n",
    "$$ \\mu = \\sum_i^N q_ir_i $$ \n",
    "\n",
    "Por lo tanto el operador que debemos reemplazar es el operador posición y nos queda como:\n",
    "\n",
    "\n",
    "$$ \\hat{\\mu} = \\sum_i^N q_i\\hat{r_i} $$ \n",
    "\n",
    "\n"
   ]
  },
  {
   "cell_type": "markdown",
   "metadata": {},
   "source": [
    "### Ejercicio 3\n",
    "\n",
    "Evalue los siguientes conmutadores: $[x,y], [x^2,p_x], [\\frac{1}{x}, p_x]$."
   ]
  },
  {
   "cell_type": "markdown",
   "metadata": {},
   "source": [
    "**Solución:** La mejor estrategia para evaluar un conmudador y determinar su valor es utilizar una función prueba y analizar si el conmutador se anula o no.\n",
    "\n",
    "$$ [x,y] g(x) = xg(x)y - xyg(x) = xyg(x) - xyg(x) = 0  $$\n",
    "\n",
    "En este primer ejemplo, x e y claramente conmutan ya que el conmutador es 0. \n",
    "\n",
    "\\begin{align}\n",
    "[x²,p_x]g(x) &= x²i\\hbar\\frac{d}{dx} g(x) - i\\hbar\\frac{d}{dx}(x² g(x))\\\\\n",
    "&= i\\hbar\\left(x²g'(x) - 2xg(x) - x^2 g'(x)\\right) \\\\\n",
    "&=  -i\\hbar2xg(x)\n",
    "\\end{align}\n",
    "\n",
    "Eliminado la función de prueba arbitraria tenemos que:\n",
    "\n",
    "$$ [x²,p_x] = -2i\\hbar x $$\n",
    "\n",
    "Por lo tanto los operadores no conmutan."
   ]
  },
  {
   "cell_type": "markdown",
   "metadata": {},
   "source": [
    "\\begin{align}\n",
    "[1/x,p_x]g(x) &= \\frac{1}{x}i\\hbar\\frac{d}{dx} g(x) - i\\hbar \\frac{d}{dx}\\left(\\frac{1}{x}g(x)\\right)\\\\\n",
    "&= i\\hbar\\left(\\frac{1}{x}g'(x) + \\frac{1}{x²}g(x) - \\frac{1}{x}g'(x)\\right) \\\\\n",
    "&=  i\\hbar x^{-2}g(x)\n",
    "\\end{align}\n",
    "\n",
    "Por lo tanto nuevamente no conmutan."
   ]
  },
  {
   "cell_type": "markdown",
   "metadata": {},
   "source": [
    "### Ejercicio 4\n",
    "\n",
    "Calcule el valor esperado una particula  en una caja descrita por la función de onda:\n",
    "\\begin{equation*}\n",
    "\t\\phi(x)=\\left(\\frac{630}{l^9}\\right)^{1/2} x^2(l-x)^2\n",
    "\\end{equation*}\n",
    "Explique por qué la particula con esta función de onda presenta una dispersión en la energía."
   ]
  },
  {
   "cell_type": "markdown",
   "metadata": {},
   "source": [
    "**Solución:**\n",
    "\n",
    "Este es un ejercico un poco más avanzando pero muy interesante. Nos pide calcular la desviación estandar en la energía para una función de onda que no es función propia del Hamiltoniano de la partícula en caja 1-D. Como no es función propia, si una partícual se encuentra en una estado descrito por esa función de onda, su energía debería variar con respecto a la energía exacta para un estado determiando. Eso es justamente lo que vamos a determinar en este ejercicio. Empecemos graficando la función $\\phi(x)$ para analizar que tan bien describe el estado fundamenal del la partícula en una caja."
   ]
  },
  {
   "cell_type": "code",
   "execution_count": 3,
   "metadata": {},
   "outputs": [],
   "source": [
    "def phi(x):\n",
    "    l=1.0\n",
    "    return np.sqrt(630/l**9) * x**2 * x*(l-x)**2 "
   ]
  },
  {
   "cell_type": "code",
   "execution_count": 4,
   "metadata": {},
   "outputs": [
    {
     "data": {
      "image/png": "[encoded data removed]",
      "text/plain": [
       "<Figure size 432x288 with 1 Axes>"
      ]
     },
     "metadata": {
      "needs_background": "light"
     },
     "output_type": "display_data"
    }
   ],
   "source": [
    "import matplotlib.pyplot as plt\n",
    "\n",
    "x = np.linspace(0,1,100)\n",
    "\n",
    "\n",
    "#phi(1.)\n",
    "plt.plot(x, phi(x));"
   ]
  },
  {
   "cell_type": "markdown",
   "metadata": {},
   "source": [
    "Podemos ver que efectivamente se asemeja la la función de onda en el estado fundamental. Es si está un poco desplazada hacia el extremo derecho de la caja. "
   ]
  },
  {
   "cell_type": "markdown",
   "metadata": {},
   "source": [
    "Procedamos entonces a calcular la desviación estándard en la energía. \n",
    "Para eso debemos obtener el valor esperado de la energía $<E>$ y también el valor esperado del cuadrado de la energía $<E²>$. Empecemos por el más simple que es el valor esperado de la energía. Recordemos que el postulado IV nos indica que para una función de onda normalizada, tenemos que el valor esperado de un observable $A$ está dado por:\n",
    "\n",
    "$$<A> = \\int \\psi(x)\\hat{A} \\psi(x) d\\tau $$\n",
    "\n",
    "donde la integración es sobre todo el espacio. En el caso que estamos analizando la integración es sobre $x$ y el operador en cuestión es el operador de energía, es decri el operado Hamiltoniano. \n",
    "\n",
    "$$ \\hat{H} = -\\frac{\\hbar²}{2m}\\frac{d²}{dx²} $$\n",
    "\n",
    "Por lo tanto debemos resolver la integral: \n",
    "\n",
    "$$<E> = \\int_0^l \\phi(x)\\hat{H} \\phi(x) dx $$\n",
    "\n",
    "\\begin{align}\n",
    "<E> &= \\int \\left(\\frac{630}{l^9}\\right)^{1/2} x^2(l-x)^2 \\left(-\\frac{\\hbar²}{2m}\\frac{d²}{dx²} \\right) \\left(\\frac{630}{l^9}\\right)^{1/2} x^2(l-x)^2 dx\\\\\n",
    "    &= -\\frac{\\hbar²}{2m}\\frac{630}{l^9} \\int x^2(l-x)^2 \\left(\\frac{d²}{dx²} \\right) x^2(l-x)^2 dx \\\\\n",
    "    &= -\\frac{\\hbar²}{2m}\\frac{630}{l^9} \\int x^2(l-x)^2 \\left(\\frac{d}{dx} \\right) \\Big( 2x(l-x)² - 2x²(l-x) \\Big) dx \\\\\n",
    "    &= -\\frac{\\hbar²}{2m}\\frac{630}{l^9} \\int x^2(l-x)^2 \\Big( (2(x-l)² - 2x2(l-x) - 4x(l-x) + 2x² \\Big) dx \\\\\n",
    "    &= -\\frac{\\hbar²}{2m}\\frac{630}{l^9} \\int x^2(l-x)^2 \\Big( (2(l-x)² - 8x(l-x) + 2x² \\Big) dx\n",
    "\\end{align}\n",
    "\n"
   ]
  },
  {
   "cell_type": "markdown",
   "metadata": {},
   "source": [
    "\\begin{align}\n",
    " &= -\\frac{\\hbar²}{2m}\\frac{630}{l^9} \\int_0^l 2x^2(l-x)^4 - 8x²(x-l)³ + 2x²(x-l)² dx \\\\\n",
    " &= -\\frac{\\hbar²}{m}\\frac{630}{l^9} \\left(\\int_0^l x^2(l-x)^4dx -  \\int_0^l 4x³(l-x)³dx + \\int_0^l x⁴(l-x)² dx \\right) \\\\\n",
    "\\end{align}\n",
    "\n",
    "Ahora solamente nos falta calcular esas tres integrales, las llamaremos i1, i2 e i3 respectivamente. "
   ]
  },
  {
   "cell_type": "code",
   "execution_count": 5,
   "metadata": {},
   "outputs": [],
   "source": [
    "init_printing(use_unicode=False, wrap_line=False)\n",
    "\n",
    "x = Symbol('x', nonzero=True)\n",
    "l = symbols('l', nonzero=True)\n",
    "int1 = x**2 * (l-x)**4\n",
    "int2 = -4 * x**3 * (l-x)**3\n",
    "int3 = x**4 * (l-x)**2"
   ]
  },
  {
   "cell_type": "code",
   "execution_count": 6,
   "metadata": {},
   "outputs": [
    {
     "data": {
      "image/png": "[encoded data removed]",
      "text/latex": [
       "$\\displaystyle \\frac{l^{7}}{105}$"
      ],
      "text/plain": [
       "  7\n",
       " l \n",
       "---\n",
       "105"
      ]
     },
     "execution_count": 6,
     "metadata": {},
     "output_type": "execute_result"
    }
   ],
   "source": [
    "i1 = integrate(int1, (x, 0, l))\n",
    "i1.simplify()"
   ]
  },
  {
   "cell_type": "code",
   "execution_count": 7,
   "metadata": {},
   "outputs": [
    {
     "data": {
      "image/png": "[encoded data removed]",
      "text/latex": [
       "$\\displaystyle - \\frac{l^{7}}{35}$"
      ],
      "text/plain": [
       "  7 \n",
       "-l  \n",
       "----\n",
       " 35 "
      ]
     },
     "execution_count": 7,
     "metadata": {},
     "output_type": "execute_result"
    }
   ],
   "source": [
    "i2 = integrate(int2, (x, 0, l))\n",
    "i2.simplify()"
   ]
  },
  {
   "cell_type": "code",
   "execution_count": 8,
   "metadata": {},
   "outputs": [
    {
     "data": {
      "image/png": "[encoded data removed]",
      "text/latex": [
       "$\\displaystyle \\frac{l^{7}}{105}$"
      ],
      "text/plain": [
       "  7\n",
       " l \n",
       "---\n",
       "105"
      ]
     },
     "execution_count": 8,
     "metadata": {},
     "output_type": "execute_result"
    }
   ],
   "source": [
    "i3 = integrate(int3, (x, 0, l))\n",
    "i3.simplify()"
   ]
  },
  {
   "cell_type": "markdown",
   "metadata": {},
   "source": [
    "Finalmente tenemos que:\n",
    "\n",
    "\\begin{align}\n",
    " &= -\\frac{\\hbar²}{m}\\frac{630}{l^9} \\left(\\frac{l⁷}{105} -  \\frac{l⁷}{35} + \\frac{l⁷}{105} \\right) \\\\\n",
    " &=6\\frac{\\hbar²}{ml²} \\\\\n",
    " &=\\frac{6}{4\\pi²}\\frac{h²}{ml²} = 0.1519\\frac{h²}{ml²}\n",
    "\\end{align}  \n",
    "\n",
    "Comparemos este resultado  con el valor de energía exacto\n",
    "del estado fundamental de una caja 1-D:\n",
    "\n",
    "\\begin{align}\n",
    "     E_1 &= \\frac{h^2}{8ml^2} = 0.125\\frac{h²}{ml²}\n",
    "\\end{align}\n",
    "\n",
    "Podemos conculir que La energía es similar pero un poco mayor que la energía exacta. Recordemos además que lo que acabamos de calcular es un valor esperado es decir que si una partícula se encuentra en el estado $\\phi(x)$ y repito una medición de la energía varias veces en promedio vamos a obener la energía calculado, sin embargo esta puede variar de medición a medición, sin embargo si la partícual se encuentra en el estado de energía determinada $\\psi_1(x)$ cuando hacemos una medición de la energía SIEMPRE voy a obtener la energía $E_1$.\n",
    "\n",
    "Finalmente este resultado no nos entrega mayor información sobre la dispersion promedio de valores de energía cuando se encuentran en este estado, \n",
    "pero ahora que concemos el promedio podemos calcular la desviación estándard de ese estado."
   ]
  },
  {
   "cell_type": "markdown",
   "metadata": {},
   "source": [
    "### Ejercicio 5\n",
    "\n",
    "Considerando los resultados del ejercicio anterior,\n",
    "calcule el valor de $\\sigma_E = (\\langle E^2 \\rangle - \\langle E \\rangle^2)^{1/2}$ para  una particula  en una caja descrita por la función de onda:\n",
    "\n",
    "\\begin{equation*}\n",
    "\t\\phi(x)=\\left(\\frac{630}{l^9}\\right)^{1/2} x^2(l-x)^2\n",
    "\\end{equation*}\n",
    "\n",
    "Explique por qué la particula con esta función de onda presenta una dispersión en la energía."
   ]
  },
  {
   "cell_type": "markdown",
   "metadata": {},
   "source": [
    "**Solución:**\n",
    "    \n",
    "Ya conocemos el resultado del promedio $<E>$ de una PEC 1-D en este estado por lo tanto solamente necesitamos calcular el valor de $<E²>$.\n",
    "Antes de escribir la integral vamos a recordar y calcular unas derivadas que necesitamos para el calculo de este valor esperado:\n",
    "\n",
    "\\begin{align}\n",
    "\\frac{d²}{dx²} \\phi(x) & = 2(l-x)² - 8x(l-x) + 2x² \\\\\n",
    "                       & = 2l² - 4lx + 2x² -8lx +8x² + 2x² \\\\\n",
    "                       & =  12x² - 12lx + 2l² \\\\\n",
    "\\frac{d³}{dx³} \\phi(x) & = 24x - 12l \\\\\n",
    "\\frac{d⁴}{dx⁴} \\phi(x) & = 24  \\\\\n",
    "\\end{align}\n",
    "\n",
    "Muchas veces, sobre todo para funciones más complejas es conveniente anotar las derivadas de las funciones de forma independiente y reemplazarlas al momento adecuado en la integral. \n",
    "\n",
    "La integral que debemos calcular es la siguiente:\n",
    "\n",
    "$$ <E²> = \\int_0^l \\phi(x)^* \\hat{H}² \\phi(x) dx $$\n",
    "\n",
    "reemplazamos entonces por el operador y la función de onda:\n",
    "\n",
    "\\begin{align}\n",
    "<E²> &=  \\left(\\frac{630}{l^9}\\right) \\int x^2(l-x)^2 \\left(-\\frac{\\hbar²}{2m}\\frac{d²}{dx²} \\right) \\left(-\\frac{\\hbar²}{2m}\\frac{d²}{dx²} \\right) x^2(l-x)^2 dx\\\\\n",
    "&= \\left(\\frac{630}{l^9}\\right) \\int x^2(l-x)^2 \\frac{\\hbar⁴}{4m²}\\frac{d⁴}{dx⁴} x^2(l-x)^2 dx\\\\\n",
    "&= \\left(\\frac{630}{l^9}\\right) \\int x^2(l-x)^2 \\frac{\\hbar⁴}{4m²}24 dx\\\\\n",
    "&= \\left(\\frac{3780\\hbar⁴}{m²l^9}\\right) \\int_0^l x^2(l-x)^2 dx\\\\\n",
    " \\end{align}\n",
    " \n",
    "Solo nos falta evaluar la integral:"
   ]
  },
  {
   "cell_type": "code",
   "execution_count": 9,
   "metadata": {},
   "outputs": [
    {
     "data": {
      "image/png": "[encoded data removed]",
      "text/latex": [
       "$\\displaystyle \\frac{l^{5}}{30}$"
      ],
      "text/plain": [
       " 5\n",
       "l \n",
       "--\n",
       "30"
      ]
     },
     "execution_count": 9,
     "metadata": {},
     "output_type": "execute_result"
    }
   ],
   "source": [
    "int4 = x**2 * (l-x)**2\n",
    "\n",
    "i4 = integrate(int4, (x, 0, l))\n",
    "i4.simplify()"
   ]
  },
  {
   "cell_type": "markdown",
   "metadata": {},
   "source": [
    "Reemplazando obetenemos:\n",
    "    \n",
    "$$ <E²> = \\frac{3780\\hbar⁴}{m²l^9} \\frac{l⁵}{30} =  \\frac{126\\hbar⁴}{m²l^4} $$"
   ]
  },
  {
   "cell_type": "markdown",
   "metadata": {},
   "source": [
    "El último paso es calcular la desviación estándar:\n",
    "\n",
    "\\begin{align}\n",
    "\\sigma_E &= \\left(\\langle E^2 \\rangle - \\langle E \\rangle^2\\right)^{1/2}\\\\\n",
    "         &=  \\left(  \\frac{126\\hbar⁴}{m²l^4} -  \\frac{36\\hbar⁴}{m²l^4} \\right)^{1/2}\\\\\n",
    "         &=  \\sqrt{\\frac{90\\hbar⁴}{m²l^4}} = \\sqrt{90}\\frac{\\hbar²}{ml²} = \\frac{\\sqrt{90}}{4\\pi²}\\frac{h²}{ml²}\n",
    "         &= 0.240\\frac{h²}{ml²}\n",
    "\\end{align}\n",
    "\n",
    "Como pueden ver, aunque el promedio es solamente un poco mayor que el valor exacto, la desviación estándard es bastante grande tal que una medición de la energía en ese estado puede dar valores muy dispersos alrededor de ese promedio. En el próximo ejercico se ilustra los resultdaos con un ejemplo numérico."
   ]
  },
  {
   "cell_type": "markdown",
   "metadata": {},
   "source": [
    "### Ejercicio 6: \n",
    "\n",
    "Calcule el valor medio de la energía y la desviación estándar en la energía de un electrón en una caja 1-D de largo $0.1 nm$ que se encuentra en un estado:\n",
    "\n",
    "\\begin{equation*}\n",
    "\t\\phi(x)=\\left(\\frac{630}{l^9}\\right)^{1/2} x^2(l-x)^2\n",
    "\\end{equation*}\n",
    "\n",
    "La masa de un proton es: $1.6762\\times10^{-27} $kg.  Exprese  el resultado final en electronvoltios."
   ]
  },
  {
   "cell_type": "markdown",
   "metadata": {},
   "source": [
    "Ya obtuvimos una expresión para el valor medio de la energía, ahora podemos utilizarla para este problema\n",
    "\n",
    "$$ \\langle E \\rangle = 6\\frac{\\hbar²}{ml²}  \\qquad \\sigma_E = \\sqrt{\\frac{90\\hbar⁴}{m²l⁴}} $$"
   ]
  },
  {
   "cell_type": "code",
   "execution_count": 41,
   "metadata": {},
   "outputs": [
    {
     "name": "stdout",
     "output_type": "stream",
     "text": [
      "El valor medio de la energía es: 45.71978495066045 eV y la desviacion estandar del promedio es: 72.28932728858803 eV\n"
     ]
    }
   ],
   "source": [
    "l = 1.0e-10 # en m\n",
    "#m = qcel.constants.proton_mass\n",
    "m = me\n",
    "\n",
    "#E_e = h**2 / (8 * m * l**2) #* qcel.constants.conversion_factor(\"J\", \"eV\")\n",
    "\n",
    "E = 6 * hbar**2 / (m * l**2) * qcel.constants.conversion_factor(\"J\", \"eV\")\n",
    "sig = np.sqrt(90 * hbar**4 / (m**2 * l**4)) * qcel.constants.conversion_factor(\"J\", \"eV\")\n",
    "\n",
    "print(\"El valor medio de la energía es: {} eV y la desviacion estandar del promedio es: {} eV\".format(E, sig))"
   ]
  },
  {
   "cell_type": "code",
   "execution_count": null,
   "metadata": {},
   "outputs": [],
   "source": []
  },
  {
   "cell_type": "code",
   "execution_count": null,
   "metadata": {},
   "outputs": [],
   "source": []
  }
 ],
 "metadata": {
  "kernelspec": {
   "display_name": "Python 3",
   "language": "python",
   "name": "python3"
  },
  "language_info": {
   "codemirror_mode": {
    "name": "ipython",
    "version": 3
   },
   "file_extension": ".py",
   "mimetype": "text/x-python",
   "name": "python",
   "nbconvert_exporter": "python",
   "pygments_lexer": "ipython3",
   "version": "3.7.4"
  }
 },
 "nbformat": 4,
 "nbformat_minor": 4
}
