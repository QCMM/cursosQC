{
 "cells": [
  {
   "cell_type": "code",
   "execution_count": 6,
   "metadata": {},
   "outputs": [],
   "source": [
    "import qcelemental as qcel\n",
    "import numpy as np\n",
    "from sympy import *\n",
    "from scipy import integrate as integracion_num\n",
    "\n",
    "c = qcel.constants.c\n",
    "h = qcel.constants.h\n",
    "me= qcel.constants.me\n",
    "pi = np.pi\n",
    "avog = qcel.constants.get(\"Avogadro constant\")\n",
    "J2kJmol = avog/1000"
   ]
  },
  {
   "cell_type": "markdown",
   "metadata": {},
   "source": [
    "# Guía:   El Rotor Rígido"
   ]
  },
  {
   "cell_type": "markdown",
   "metadata": {},
   "source": [
    "### Ejercicio 10\n",
    "\n",
    "La transición J =0 a J =1 del monoxido de carbono ($^{12}$C$^{16}$O) ocurre a 1.102 $\\times$ 10$^5$ MHz. Calcule la distancia de enlace de esta molécula en Angstrom (1 Angstrom =  10$^{-10}$m).\n",
    "\n",
    "Ref: B. Rosenblum, A.H. Nethercot, Jr., and C.H. Townes, Phys. Rev. 109, 400 (1958). "
   ]
  },
  {
   "cell_type": "markdown",
   "metadata": {},
   "source": [
    "**Solución**:\n",
    "\n",
    "En espectroscopía rotacional se pueden observar las bandas de absorción que cumplen con la regla de seleción rotacional $\\Delta J = \\pm 1$. En este ejercicio queremos utulizar la información de un espectro microondas para poder determinar la distancia de enlace de la molécula CO a través de las leyes de la mecánica cuántica.\n",
    "\n",
    "Vimos en clase que utilizando la aproximación del rotor rígido, es posible relacionar la distancia de enlace de una molécula diatómica con la difrencia entre niveles de energía rotacionales. Esta diferencia se puede obtener exprimentalmente a través de la espectroscopía en microonda, en la cual se expone un gas de moléculas a radiación de microondas y se observa las frequencias a las cuales las moleculas absorben radiación. La frecuencia de absorsicón se puede relacionar con la difrencia entre dos niveles de energía a través de la relación frecuencia - energía de Bohr: $\\Delta E = h\\nu$. A continuación el espectro da absorción rotacional de la molécula problema:\n",
    "\n",
    "![](./CO_spectra.png)\n",
    "\n",
    "Este espectro muestra las distintas transiciones rotaciones permitidas para el $^{12}$C$^{16}$O. La banda con muy baja intensidad, corresponde a la banda $J = 0 \\rightarrow  1$ que es la banda que nos interesa para este ejecrcicio. La intensidad depende de la población de los distintos estados rotacionales que a su vez depende de la temperatura del sistema. Cómo calcular la población de los distintos estados es algo que veremos en el módulo de mecánica estadística. Sabemos qué la energía del rotor rígido está dada por la expresión: \n",
    "\n",
    "\\begin{align}\n",
    "E_J= J(J+1)\\frac{\\hbar^2}{2I}\n",
    "\\end{align}\n",
    "\n",
    "y consequentemente:\n",
    "\n",
    "\\begin{align}\n",
    "\\Delta E &= E_{J+1} - E_{J} = \\frac{h^2}{4\\pi^2 I} (J + 1)\n",
    "\\end{align}\n",
    "\n",
    "Como los niveles de energía están cunatizados solamente fotones de cierta frecuencia pueden exitar la mólecula de CO tal que pasa a un nivel rotacional de más alta energía. Cómo la energía de un foton está dada por $h\\nu$ tenemos que la frecuencia de absorción de la banda de absorción, i.e. la que podemos identificar exprimentalmente haciendo espectrocopía de microondas, está dada por;\n",
    "\n",
    "\\begin{align}\n",
    "\\nu = \\frac{h}{4\\pi^2 I} (J + 1)\n",
    "\\end{align}\n",
    "\n",
    "J en este caso es el nivel de energía antes de la exitación. Es decir mientra más alto el nivel de energía original mayor tendrá que ser la frecuencia del fotón que exita el nivel rotacional de origen al de siguiente energía ($\\Delta J = +1$). El propósito de este ejercicio es calcular la distancia de enlace del CO, por lo tanto convien reescribir la ecuación anterior, sabiendo que el momento de Inercia está dado por:\n",
    "\n",
    "$$ I = \\mu d^2 $$\n",
    "\n",
    "con\n",
    "\n",
    "\\begin{align}\n",
    " \\mu = \\frac{m_1m_2}{m_1 + m2}\n",
    "\\end{align}\n",
    "\n",
    "Por lo tanto obtenemos: \n",
    "\n",
    "\\begin{align}\n",
    "\\nu = \\frac{h}{4\\pi^2 \\mu d^2} (J + 1)\n",
    "\\end{align}\n",
    "\n",
    "De esta expresión debo despejar r para obtener:\n",
    "\n",
    "\\begin{align}\n",
    "d = \\sqrt{\\frac{h(J+1)}{4\\pi^2 \\mu\\nu}}\n",
    "\\end{align}\n",
    "\n",
    "Para J = 0 obetnemos:\n",
    "\n",
    "\\begin{align}\n",
    "d = \\sqrt{\\frac{h}{4\\pi^2 \\mu\\nu}}\n",
    "\\end{align}\n",
    "\n",
    "\n",
    "\n",
    "Entones considerando la primer banda que aparece en $J = 0 \\rightarrow  1$  a 1.102 $\\times$ 10$^5$ MHz, podemos calcular la masa reducida del   $^{12}$C$^{16}$O y obtener la distanacia de enlace:\n",
    "\n",
    "\n"
   ]
  },
  {
   "cell_type": "code",
   "execution_count": 40,
   "metadata": {},
   "outputs": [],
   "source": [
    "def mu(m1, m2):\n",
    "    return (m1*m2)/(m1+m2)\n",
    "\n",
    "def dist(mu, dE):\n",
    "    return qcel.constants.hbar * np.sqrt(1/(mu*dE))"
   ]
  },
  {
   "cell_type": "code",
   "execution_count": 41,
   "metadata": {},
   "outputs": [],
   "source": [
    "mred = mu(12,16)*qcel.constants.amu2kg # Debo transformar masa de amu a kg por eso multiplico por ese factor al final!!\n",
    "#nu = 1.153e11 #Hz\n",
    "nu = 1.102e11 #Hz\n",
    "J = 0"
   ]
  },
  {
   "cell_type": "code",
   "execution_count": 42,
   "metadata": {},
   "outputs": [],
   "source": [
    "def dis_nu(mu, nu, J):\n",
    "    return np.sqrt(h * (J+1) / (4 * np.pi**2 * mu * nu))"
   ]
  },
  {
   "cell_type": "code",
   "execution_count": 43,
   "metadata": {},
   "outputs": [
    {
     "name": "stdout",
     "output_type": "stream",
     "text": [
      "La distancia de enlace de la molécula CO es: 1.157 Angstrom\n"
     ]
    }
   ],
   "source": [
    "d = dis_nu(mred, nu, J)\n",
    "print(\"La distancia de enlace de la molécula CO es: {} Angstrom\".format(np.round(d*10**10, 3)))"
   ]
  },
  {
   "cell_type": "markdown",
   "metadata": {},
   "source": [
    "Nótese que tambien es posible utilizar otra banda de absorsción. Una banda con mayor intensidad es la banda J = 5 $\\rightarrow$ 6 que se observa a una frecuenca de $\\nu$ = 6.611 $\\times$ 10$^5$ MHz \\[1\\]. El resultado para la distancia de enlace debería ser muy parecido al valor calculado con la primera banda de absorción, simplemente debemos utulizar el J correcte en la expresión de la distancia que en este caso es J = 5. \n",
    "\n",
    "[1]  L.R. Zink, P. DeNatale, F.S. Pavone, M. Prevedelli, K.M. Evenson, and M. Inguscio, J. Mol. Spectrosc. 143, 304 (1990). "
   ]
  },
  {
   "cell_type": "code",
   "execution_count": 44,
   "metadata": {},
   "outputs": [],
   "source": [
    "nu_5 = 6.611e11 #Hz\n",
    "J = 5"
   ]
  },
  {
   "cell_type": "code",
   "execution_count": 45,
   "metadata": {},
   "outputs": [
    {
     "name": "stdout",
     "output_type": "stream",
     "text": [
      "La distancia de enlace de la molécula CO es: 1.157 Angstrom\n"
     ]
    }
   ],
   "source": [
    "d = dis_nu(mred, nu_5, J)\n",
    "print(\"La distancia de enlace de la molécula CO es: {} Angstrom\".format(np.round(d*10**10, 3)))"
   ]
  },
  {
   "cell_type": "markdown",
   "metadata": {},
   "source": [
    "### Ejercicio 9:\n",
    "\n",
    "La separación entre los dos niveles de energía más bajos del $^{12}$C$^{32}$S es $3.246x10^{-23}$J. Calcule\n",
    "su distancia de enlace."
   ]
  },
  {
   "cell_type": "markdown",
   "metadata": {},
   "source": [
    "**Solución**: Conciendo la separación entre niveles de energía es posible calcular la distancia de enlace de una molécula diatómica utilizando la aproximación del rotor rígido. Además la sepración entre distintos niveles de energía rotacionales se puede obtener a través de la espectroscopía rotacional (más acerca de eso al final del curso). \n",
    "\n",
    "Entonces consideremos los níveles de energía del rotor rígido:\n",
    "\n",
    "\\begin{align}\n",
    "E_J= J(J+1)\\frac{\\hbar^2}{2I}\n",
    "\\end{align}\n",
    "\n",
    "En esta ecuación $J$ es el número cuántico asociado al momento angular de la molécula rotando alrededor de su centro de masa y $I$ es el momento de inercia de la molécula que está dado por:\n",
    "\n",
    "\\begin{align}\n",
    " I = \\mu d²\n",
    "\\end{align}\n",
    "\n",
    "$d$ es la distancia de enlace de la molécula, y el paramentro que deseamos calcular. Además la masa reducioda $\\mu$ está dada por:\n",
    "\n",
    "\\begin{align}\n",
    " \\mu = \\frac{m_1m_2}{m_1 + m2}\n",
    "\\end{align}\n",
    "\n",
    "donde $m_1$ y $m_2$ son la masa de los átomos 1 y 2 respectivamente. \n",
    "\n",
    "Entonces debemos considerar los niveles de energía $J=0$ y $J=1$ y despejar $d$:\n",
    "\n",
    "\\begin{align}\n",
    "\\Delta E_{10} =& 1(1+1)\\frac{\\hbar^2}{2\\mu d²} - 0(0+1)\\frac{\\hbar^2}{2\\mu d²} \\\\\n",
    "d² =& 2\\frac{\\hbar^2}{2\\mu \\Delta E_{10}}\\\\\n",
    "d =& \\sqrt{2\\frac{\\hbar^2}{2\\mu \\Delta E_{10}}} = \\hbar\\sqrt{\\frac{1}{\\mu \\Delta E_{10}} }\\\\\n",
    "\\end{align}\n",
    "\n",
    "\n"
   ]
  },
  {
   "cell_type": "markdown",
   "metadata": {},
   "source": [
    "Y llamamos las funciones con los datos del ejercicio:"
   ]
  },
  {
   "cell_type": "code",
   "execution_count": 46,
   "metadata": {},
   "outputs": [
    {
     "name": "stdout",
     "output_type": "stream",
     "text": [
      "La distancia de enlace de la molécula problema es: 1.538 Angstrom\n"
     ]
    }
   ],
   "source": [
    "mred = mu(12,32)*qcel.constants.amu2kg # Debo transformar masa de amu a kg por eso multiplico por ese factor al final!!\n",
    "deltaE = 3.246e-23\n",
    "\n",
    "d = dist(mred, deltaE)\n",
    "print(\"La distancia de enlace de la molécula problema es: {} Angstrom\".format(np.round(d*10**10, 3)))"
   ]
  },
  {
   "cell_type": "code",
   "execution_count": null,
   "metadata": {},
   "outputs": [],
   "source": []
  }
 ],
 "metadata": {
  "kernelspec": {
   "display_name": "Python 3",
   "language": "python",
   "name": "python3"
  },
  "language_info": {
   "codemirror_mode": {
    "name": "ipython",
    "version": 3
   },
   "file_extension": ".py",
   "mimetype": "text/x-python",
   "name": "python",
   "nbconvert_exporter": "python",
   "pygments_lexer": "ipython3",
   "version": "3.7.7"
  }
 },
 "nbformat": 4,
 "nbformat_minor": 4
}
