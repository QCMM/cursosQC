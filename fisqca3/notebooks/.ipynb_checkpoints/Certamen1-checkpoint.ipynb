{
 "cells": [
  {
   "cell_type": "code",
   "execution_count": 2,
   "metadata": {},
   "outputs": [],
   "source": [
    "# Importar modulos\n",
    "import qcelemental as qcel\n",
    "import numpy as np\n",
    "from sympy import *\n",
    "from scipy import integrate as integracion_num\n",
    "\n",
    "# Definición de variables golbales\n",
    "h = qcel.constants.h  # Constante de planck\n",
    "hbar = qcel.constants.hbar  # Constante de planck reducida\n",
    "c = qcel.constants.c  # Velocidad de la luz\n",
    "me= qcel.constants.me # Masa del electrón\n",
    "\n",
    "pi = np.pi\n",
    "avog = qcel.constants.get(\"Avogadro constant\")\n",
    "J2kJmol = avog/1000"
   ]
  },
  {
   "cell_type": "markdown",
   "metadata": {},
   "source": [
    "# CERTAMEN 1\n",
    "\n",
    "### Pregunta 1:\n",
    "\n",
    "**1.1:** Calcule la longitud de onda  de un electrón que se genera cuando un haz de luz de  longitud de onda de 140.0 nm incide en una placa de metal de zinc con una función de trabajo de 3.63 eV. Reporte su resultado en picómetros.\n",
    "\n",
    "**Solución**:\n",
    "\n",
    "Para calcular la longitud de onda de un electrón hay que utilizar la relación utilizada por De Broglie que relación el momentum del electrón con su longitud de onda:\n",
    "\n",
    "\\begin{align}\n",
    "    \\lambda_{el} = \\frac{h}{p} = \\frac{h}{mv}\n",
    "\\end{align}\n",
    "\n",
    "Entonces la pregunta es, cómo obtenemos el momentum del este electón? Afortunadamente el ejercicio nos indica que el electrón es un fotoelectrón, es decir se libreó de una placa metálica al hacer incidir radiación sobre esta. Conocemos la longitud de onda de la radiación (140.0 y la función del trabajo del metal por lo tanto podemos determinar la energía cinética del electrón emitido:\n",
    "\n",
    "\\begin{align}\n",
    "    K_{el} = h \\nu -\\Omega_{Zn} = \\frac{hc}{\\lambda_{fot}} - \\Omega_{Zn}\n",
    "\\end{align}\n",
    "\n",
    "Entonces calculemos...."
   ]
  },
  {
   "cell_type": "code",
   "execution_count": 3,
   "metadata": {},
   "outputs": [],
   "source": [
    "def K(lam, ftrabajo):\n",
    "    return (h * c)/lam - ftrabajo"
   ]
  },
  {
   "cell_type": "code",
   "execution_count": 4,
   "metadata": {},
   "outputs": [],
   "source": [
    "l = 140.0e-9 # en m\n",
    "ft = 3.63 * qcel.constants.conversion_factor(\"eV\" , \"J\") # Convertir de eV a J"
   ]
  },
  {
   "cell_type": "code",
   "execution_count": 5,
   "metadata": {},
   "outputs": [
    {
     "name": "stdout",
     "output_type": "stream",
     "text": [
      "La energía cinética del electrón es: 8.37e-19 J\n"
     ]
    }
   ],
   "source": [
    "ener_cinetica_elec = K(l, ft)\n",
    "print(\"La energía cinética del electrón es: {} J\".format(np.format_float_scientific(ener_cinetica_elec,2)))"
   ]
  },
  {
   "cell_type": "markdown",
   "metadata": {},
   "source": [
    "Teniendo el valor de energía  podemos proceder a calcular el momentum del electrón ya que:\n",
    "\\begin{align}\n",
    "    K_{el} = \\frac{p^2}{2m_e} \\\\\n",
    "    p = \\sqrt{2K_{el}m_e}\n",
    "\\end{align}\n",
    "\n",
    "Entonces calculamos el momento lineal del electrón"
   ]
  },
  {
   "cell_type": "code",
   "execution_count": 6,
   "metadata": {},
   "outputs": [],
   "source": [
    "def mom_p(K_el):\n",
    "    return np.sqrt(2 * K_el * me)"
   ]
  },
  {
   "cell_type": "code",
   "execution_count": 7,
   "metadata": {},
   "outputs": [
    {
     "name": "stdout",
     "output_type": "stream",
     "text": [
      "El momento lineal del electrón es: 1.24e-24 kg m/s\n",
      "La velocidad del electrón es: 1.36e+06 m/s\n"
     ]
    }
   ],
   "source": [
    "p = mom_p(ener_cinetica_elec)\n",
    "v = p/me\n",
    "print(\"El momento lineal del electrón es: {} kg m/s\".format(np.format_float_scientific(p,2)))\n",
    "print(\"La velocidad del electrón es: {} m/s\".format(np.format_float_scientific(v,2)))"
   ]
  },
  {
   "cell_type": "markdown",
   "metadata": {},
   "source": [
    "Finalmente conociendo el momentum podemos calcular la longitude de onda del electron:"
   ]
  },
  {
   "cell_type": "code",
   "execution_count": 8,
   "metadata": {},
   "outputs": [
    {
     "name": "stdout",
     "output_type": "stream",
     "text": [
      "La longitud de onda del electrón es: 536.5 pm\n"
     ]
    }
   ],
   "source": [
    "l_ele = (h/p) * qcel.constants.conversion_factor(\"m\" , \"pm\")\n",
    "print(\"La longitud de onda del electrón es: {} pm\".format(np.round(l_ele  , 1)))"
   ]
  },
  {
   "cell_type": "markdown",
   "metadata": {},
   "source": [
    "**1.2** Calcular la incertidumbre mínima en la componente x de la velocidad de una electrón, cuya posición se mide con una incertidumbre de  1x10$^{-10}$  m. \n",
    "\n",
    "**Solución**: El principio de incertidumbre está dado por:\n",
    "\n",
    "\\begin{align}\n",
    "    \\Delta p_x \\Delta x \\geq \\frac{\\hbar}{2} \n",
    "\\end{align}\n",
    "\n",
    "Por lo tanto al conocer la incertidumbre en la velocidad podemos calcula la incertidumbre mínimia en la velocidad ya que:\n",
    "\n",
    "\\begin{align}\n",
    "    \\Delta p_x = m_e\\Delta v_x\n",
    "\\end{align}\n",
    "\n",
    "Tenemos entonces que:\n",
    "\n",
    "\\begin{align}\n",
    "    \\Delta v_x \\geq \\frac{\\hbar}{2m_e\\Delta x} \n",
    "\\end{align}\n"
   ]
  },
  {
   "cell_type": "code",
   "execution_count": 9,
   "metadata": {},
   "outputs": [
    {
     "name": "stdout",
     "output_type": "stream",
     "text": [
      "La incertidumbre mínima en le velocidad es 578838.18 m/s\n"
     ]
    }
   ],
   "source": [
    "Delta_x = 1e-10\n",
    "Delta_vx = hbar/(2 * me * Delta_x)\n",
    "print(\"La incertidumbre mínima en le velocidad es {} m/s\".format(np.round(Delta_vx  , 2)))"
   ]
  },
  {
   "cell_type": "markdown",
   "metadata": {},
   "source": [
    "#### Problema 2:\n",
    "\n",
    "Una partícula en una caja 1D de largo l, se encuentra en una superposición de estados dada por la siguiente función de onda:\n",
    "\n",
    "![wfn](./C01_P02.png) \n",
    "\n",
    "- a) Cuál es la probabilidad de encontrar la partícula en la primera mitad y la segunda mitad de la caja?\n",
    "\n",
    "- b ) Cuál es la probabilidad de obtener la energía del estado n=1 al hacer una medición?\n",
    "\n",
    "- c ) Trás hacer una medición la función de onda colapsa al estado n=1, calcule nuevamente la probabilidad de encontrar la partícula en la primera mitad de la caja\n",
    "\n",
    "- c ) Haga un esbozo de la densidad de probabilidad del estado n=1, n=2 y del estado de superposición. Puede utilizar herramientas externas para hacer el dibujo.\n"
   ]
  },
  {
   "cell_type": "markdown",
   "metadata": {},
   "source": [
    "**Solución a)**: Debemos calcular la probabilidad a través de la densidad de probabilidad integrando entre los límites $0 < x < l/2$:\n",
    "\n",
    "\\begin{align}\n",
    "    P &= \\int_0^{l/2} |\\psi(x)|^2dx = \\frac{2}{l} \\int_0^{l/2}\\Big(\\sqrt{\\frac{1}{2}}\\sin{\\frac{\\pi x}{l}} + \\sqrt{\\frac{1}{2}}\\sin{\\frac{2\\pi x}{l}} \\Big)^2 dx \\\\\n",
    "      &= \\frac{2}{l} \\int_0^{l/2}\\Big(\\frac{1}{2}\\sin²{\\frac{\\pi x}{l}} + \\sin{\\frac{\\pi x}{l}}\\sin{\\frac{2\\pi x}{l}} + \\frac{1}{2}\\sin²{\\frac{2\\pi x}{l}} \\Big)dx \\\\\n",
    "      &= \\frac{1}{l}\\int_0^{l/2}\\sin²{\\frac{\\pi x}{l}}dx + \\frac{2}{l}\\int_0^{l/2}\\sin{\\frac{\\pi x}{l}}\\sin{\\frac{2\\pi x}{l}}dx + \\frac{1}{l}\\int_0^{l/2}\\sin²{\\frac{2\\pi x}{l}}dx \\\\\n",
    "      &= I1 + I2 + I3\n",
    "\\end{align}\n",
    "\n",
    "Por lo tanto el problema ser reduce a calcular esas tres integrales. Empecemos por la primera integral:\n",
    "\n",
    "\\begin{align}\n",
    "I1 = \\frac{1}{l}\\int_0^{l/2}\\sin²{\\frac{\\pi x}{l}}dx\n",
    "\\end{align}\n"
   ]
  },
  {
   "cell_type": "code",
   "execution_count": 10,
   "metadata": {},
   "outputs": [],
   "source": [
    "x = Symbol('x', nonzero=True)\n",
    "l, pi_s = symbols('l pi', nonzero=True)\n",
    "dprob1 = 1/(l) * (sin((pi_s*x)/l))**2"
   ]
  },
  {
   "cell_type": "code",
   "execution_count": 11,
   "metadata": {},
   "outputs": [
    {
     "data": {
      "text/latex": [
       "$\\displaystyle - \\frac{\\sin{\\left(\\frac{2 \\pi x}{l} \\right)}}{4 \\pi} + \\frac{x}{2 l}$"
      ],
      "text/plain": [
       "-sin(2*pi*x/l)/(4*pi) + x/(2*l)"
      ]
     },
     "execution_count": 11,
     "metadata": {},
     "output_type": "execute_result"
    }
   ],
   "source": [
    "i1 =  integrate(dprob1, (x))\n",
    "i1.simplify()"
   ]
  },
  {
   "cell_type": "markdown",
   "metadata": {},
   "source": [
    "Por lo tanto debemos evaluar esta integral entre los límites de la primera mitad de la caja que son: $0 < x < l/2$\n"
   ]
  },
  {
   "cell_type": "code",
   "execution_count": 12,
   "metadata": {},
   "outputs": [
    {
     "data": {
      "text/plain": [
       "0.25"
      ]
     },
     "execution_count": 12,
     "metadata": {},
     "output_type": "execute_result"
    }
   ],
   "source": [
    "i1 = integrate(dprob1, (x, 0 , l/2))\n",
    "eval_i1 = lambdify([pi_s], i1)\n",
    "p_i1 = eval_i1(np.pi) # Multiplicamos por la constante de normalización\n",
    "p_i1"
   ]
  },
  {
   "cell_type": "markdown",
   "metadata": {},
   "source": [
    "Ahora evaluamos la última integral, que esencialmente igual a la anterior, solo que tenemos un valor distinto de $n$: \n",
    "\n",
    "\\begin{align}\n",
    "I2 = \\frac{1}{l}\\int_0^{l/2}\\sin²{\\frac{2\\pi x}{l}}dx\n",
    "\\end{align}\n",
    "\n"
   ]
  },
  {
   "cell_type": "code",
   "execution_count": 13,
   "metadata": {},
   "outputs": [
    {
     "data": {
      "text/latex": [
       "$\\displaystyle - \\frac{\\sin{\\left(\\frac{4 \\pi x}{l} \\right)}}{8 \\pi} + \\frac{x}{2 l}$"
      ],
      "text/plain": [
       "-sin(4*pi*x/l)/(8*pi) + x/(2*l)"
      ]
     },
     "execution_count": 13,
     "metadata": {},
     "output_type": "execute_result"
    }
   ],
   "source": [
    "dprob2 = 1/(l) * (sin((2 * pi_s*x)/l))**2\n",
    "i2 = integrate(dprob2, (x))\n",
    "i2.simplify()"
   ]
  },
  {
   "cell_type": "code",
   "execution_count": 14,
   "metadata": {},
   "outputs": [
    {
     "data": {
      "text/plain": [
       "0.25"
      ]
     },
     "execution_count": 14,
     "metadata": {},
     "output_type": "execute_result"
    }
   ],
   "source": [
    "i2 = integrate(dprob2, (x, 0 , l/2))\n",
    "eval_i2 = lambdify([pi_s], i2)\n",
    "p_i1 = eval_i2(np.pi) # Multiplicamos por la constante de normalización\n",
    "p_i1"
   ]
  },
  {
   "cell_type": "markdown",
   "metadata": {},
   "source": [
    "Finalmente debemos evaluar la integral de interferencia: \n",
    "\n",
    "\\begin{align}\n",
    "I3 = \\frac{2}{l}\\int_0^{l/2} \\sin{\\frac{\\pi x}{l}}\\sin{\\frac{2\\pi x}{l}}dx\n",
    "\\end{align}\n",
    "\n"
   ]
  },
  {
   "cell_type": "code",
   "execution_count": 15,
   "metadata": {},
   "outputs": [
    {
     "name": "stdout",
     "output_type": "stream",
     "text": [
      "I3 = \n"
     ]
    },
    {
     "data": {
      "text/latex": [
       "$\\displaystyle \\frac{4 \\sin^{3}{\\left(\\frac{\\pi x}{l} \\right)}}{3 \\pi}$"
      ],
      "text/plain": [
       "4*sin(pi*x/l)**3/(3*pi)"
      ]
     },
     "execution_count": 15,
     "metadata": {},
     "output_type": "execute_result"
    }
   ],
   "source": [
    "import sympy as sp\n",
    "dprob3 = 2/l * sp.sin(pi_s * x/l) * sp.sin(2 * pi_s*x/l)\n",
    "i3 = integrate(dprob3, (x))\n",
    "print('I3 = ')\n",
    "i3.simplify()"
   ]
  },
  {
   "cell_type": "markdown",
   "metadata": {},
   "source": [
    "Y evaluamos nuevemanete entre los límites de interes:"
   ]
  },
  {
   "cell_type": "code",
   "execution_count": 16,
   "metadata": {},
   "outputs": [
    {
     "data": {
      "text/latex": [
       "$\\displaystyle \\frac{\\sin{\\left(\\frac{\\pi}{2} \\right)} - \\frac{\\sin{\\left(\\frac{3 \\pi}{2} \\right)}}{3}}{\\pi}$"
      ],
      "text/plain": [
       "(sin(pi/2) - sin(3*pi/2)/3)/pi"
      ]
     },
     "execution_count": 16,
     "metadata": {},
     "output_type": "execute_result"
    }
   ],
   "source": [
    "i3 = integrate(dprob3, (x, 0 , l/2))\n",
    "i3.simplify()"
   ]
  },
  {
   "cell_type": "code",
   "execution_count": 17,
   "metadata": {},
   "outputs": [
    {
     "data": {
      "text/latex": [
       "$\\displaystyle 0.424413181578388$"
      ],
      "text/plain": [
       "0.424413181578388"
      ]
     },
     "execution_count": 17,
     "metadata": {},
     "output_type": "execute_result"
    }
   ],
   "source": [
    "eval_i2 = lambdify([pi_s], i3)\n",
    "p_i3 = eval_i2(np.pi) # Multiplicamos por la constante de normalización\n",
    "p_i3"
   ]
  },
  {
   "cell_type": "markdown",
   "metadata": {},
   "source": [
    "Finalmente sumamos las tres contribuciones, y obtenemos la probabilidad total!"
   ]
  },
  {
   "cell_type": "code",
   "execution_count": 18,
   "metadata": {},
   "outputs": [
    {
     "name": "stdout",
     "output_type": "stream",
     "text": [
      "La probabilidad de encotrar la partícula en la mínima en la primer mitad de la caja es 0.92\n"
     ]
    }
   ],
   "source": [
    "pt = p_i1 + p_i1 + p_i3\n",
    "print(\"La probabilidad de encotrar la partícula en la mínima en la primer mitad de la caja es {}\".format(np.round(float(pt), 2)))"
   ]
  },
  {
   "cell_type": "markdown",
   "metadata": {},
   "source": [
    "Se puede ver que al estar en una superposición de estados definidos, **se rompe la simetria con respecto al centro del caja** y se encuentra que la partícula tiene **mayor densidad de probabilidad entre 0 < x < l/2** que en el resto de la caja. Como la probabilidad total es 1, en la segundo mitdad de la caja la probabilidad debe ser 0.08 es decir es mucho menor que en la primera mitad. \n",
    "\n",
    "\n"
   ]
  },
  {
   "cell_type": "markdown",
   "metadata": {},
   "source": [
    "**Solución b)**\n",
    "\n",
    "Segun el postulado 4, la probabilidad de encontrar un estado en esta superposición de dos estados de energía definida está dada por por coeficientes de expansión:\n",
    "\n",
    "\\begin{align}\n",
    "P_i = |c_i|^2\n",
    "\\end{align}\n",
    "\n",
    "y tenemos que $c_1 = \\sqrt(0.5)$\n",
    "\n",
    "Por lo tanto la probabilidad de medir el estado n =1 es 0.5\n"
   ]
  },
  {
   "cell_type": "markdown",
   "metadata": {},
   "source": [
    "**Solución c)**\n",
    "\n",
    "Despues de hacer la observación el sistema cuántico se encuentra en un estado de energía definida n=1:\n",
    "\n",
    "\\begin{align}\n",
    "\\psi_1(x) = \\sqrt{\\frac{1}{2}}\\sin{\\frac{\\pi x}{l}}\n",
    "\\end{align}   \n",
    "\n",
    "Entonces debemos integrar la densidad de probabilidad de este estado entre 0 y l/2:\n",
    "\n",
    "\\begin{equation}\n",
    "P = \\frac{2}{l}\\int_{0}^{l/2} \\sin^2\\Big (\\frac{n \\pi x}{l}\\Big)dx\n",
    "\\end{equation}\n",
    "\n",
    "Esta es la misma integral que la integral I1 que ya calculamos en la pregunta **a)** multiplicada por dos:\n",
    "\n",
    "\\begin{equation}\n",
    "P = 2I1\n",
    "\\end{equation}\n",
    "\n",
    "Por lo tanto la probabilida es 0.5 lo que es de esperarse por la simetría de la función de onda con respecto al centro de la caja."
   ]
  },
  {
   "cell_type": "markdown",
   "metadata": {},
   "source": [
    "**Solución d)**\n"
   ]
  },
  {
   "cell_type": "code",
   "execution_count": 19,
   "metadata": {},
   "outputs": [],
   "source": [
    "import matplotlib.pyplot as plt\n",
    "\n",
    "def psi(x,n,L):\n",
    "    return np.sqrt(2/L)*np.sin(n*np.pi*x/L)\n",
    "\n",
    "def psi_sq(x,n,L):\n",
    "    return psi(x,n,L)**2\n",
    "\n",
    "def psi_sup(x,n1,n2,L):\n",
    "    c1 = 1/np.sqrt(2)\n",
    "    c2 = 1/np.sqrt(2)\n",
    "    return c1*psi(x,n1,L)+c2*psi(x,n2,L)    \n",
    "\n",
    "def psi_sup_sq(x,n1,n2,L):\n",
    "    return psi_sup(x,n1,n2,L)**2\n",
    "\n",
    "def psi_alt_sq(x, n1,n2, L):\n",
    "    return (np.sqrt(2/L) * np.sqrt(1/2) * 2 * np.sin((n1 + n2)*np.pi*x/(2*L)) *  np.cos((n1 - n2)*np.pi*x/(2*L)))**2"
   ]
  },
  {
   "cell_type": "code",
   "execution_count": 20,
   "metadata": {},
   "outputs": [
    {
     "data": {
      "image/png": "[encoded data removed]",
      "text/plain": [
       "<Figure size 432x288 with 1 Axes>"
      ]
     },
     "metadata": {
      "needs_background": "light"
     },
     "output_type": "display_data"
    }
   ],
   "source": [
    "L = 1.0\n",
    "x2 = np.linspace(0,L,100)\n",
    "plt.axvline(x=L,color='k')\n",
    "plt.axvline(x=0.0,color='k')\n",
    "plt.plot(x2,psi_sup_sq(x2,1,2,L), label=r'$\\psi_12(x)'); \n",
    "plt.plot(x2,psi(x2,2,L)); \n",
    "plt.plot(x2,psi(x2,1,L)); \n",
    "plt.ylabel(r\"$\\|\\psi(x)|^2$\");\n",
    "plt.xlabel(r\"$x$\");"
   ]
  },
  {
   "cell_type": "markdown",
   "metadata": {},
   "source": [
    "Como pueden ver en la primera mitad de la caja las funciones de onda de los estados n=1 y n=2 tienen una interferencia constructiva lo que resulta en una acomulación de densidad de porbabilidad mientras que en la otra mitad la interferencia es destructiva y resulta en una disminución de densidad. \n",
    "\n",
    "Finalmente podemos verificar el resultado de probabilidad al graficar el estado de superposición n=1, n=2:\n",
    "utilizando integración numérica, lo que debería entregar el mismo resultado que el desarollo analítco de **a)**."
   ]
  },
  {
   "cell_type": "code",
   "execution_count": 21,
   "metadata": {},
   "outputs": [
    {
     "name": "stdout",
     "output_type": "stream",
     "text": [
      "La probabilidad de encontrar la partícula en el segmento entre 0 y l/2 nm es: 0.924\n",
      "La probabilidad de encontrar la partícula en el segmento entre 0 y l/2 nm es: 0.924\n"
     ]
    }
   ],
   "source": [
    "from scipy import integrate as integracion_num\n",
    "\n",
    "prob1 = integracion_num.quad(psi_sup_sq, 0, 5, args= (1,2,10))[0]\n",
    "prob1a = integracion_num.quad(psi_alt_sq, 0, 5, args= (1,2,10))[0]\n",
    "print(\"La probabilidad de encontrar la partícula en el segmento entre 0 y l/2 nm es: {}\".format(np.round(prob1, 3)))\n",
    "print(\"La probabilidad de encontrar la partícula en el segmento entre 0 y l/2 nm es: {}\".format(np.round(prob1a, 3)))"
   ]
  },
  {
   "cell_type": "markdown",
   "metadata": {},
   "source": [
    "### Problema 3:"
   ]
  },
  {
   "cell_type": "markdown",
   "metadata": {},
   "source": [
    "Problema 3:\n",
    "\n",
    "3.1  Se propone el siguiente observable:\n",
    "\n",
    "$$ O=zp_yp^2_x $$\n",
    "\n",
    "Utilizando los postulados de la mecánica cuántica encuentre una expresión para su operador mecano-cuántico.  \n",
    "\n",
    "3.2 Considerando el sistema PEC-1D , demuestre que  la función de onda del estado n=5 es función propia del operador  $\\hat{p^2_x}$  y encuentre su valor propio. \n",
    "\n",
    "\n",
    "**Solución**\n",
    "\n",
    "**3.1**\n",
    "\n",
    "Segun el tercer postulado de la mecanica cuántica tenemos que: \n",
    "\n",
    "*Las variables dependientes x y p son representadas por los siguientes operadores:*\n",
    "\n",
    "\n",
    "$$ \\hat{x} = x \\qquad \\hat{p_x} = -i\\hbar\\frac{d}{dx} $$\n",
    "\n",
    "\n",
    "*Los operadores que dependen de variables independientes se obtienen al reemplazar los operadores \n",
    "$\\hat{x}$ y $\\hat{p}$ en su expresión clásica.*\n",
    "\n",
    "Por lo tanto debemos reemplazar estos operadores de posición y momentum  en la expresión propuesta:\n",
    "\n",
    "\\begin{equation}\n",
    "\\hat{O} =\\hat{z} \\hat{p_y}\\hat{p^2_x} = \\hat{z} \\Big(-i\\hbar\\frac{d}{dy}\\Big) \\Big(i^2\\hbar^2\\frac{d^2}{dx^2}\\Big) = i\\hbar^3\\hat{z}\\frac{d}{dy}\\frac{d^2}{dx^2}  \n",
    "\\end{equation}\n",
    "\n",
    "**3.2**\n",
    "\n",
    "Debemos probar que se cumple la ecuación de valores propios:\n",
    "\n",
    "\\begin{equation}\n",
    "\\hat{p_x^2} \\psi_n(x) = p_x^2 \\psi_n(x)\n",
    "\\end{equation}\n",
    "\n",
    "Sabiendo que la función de onda de una partícula en una caja 3-D es: \n",
    "\\begin{equation}\n",
    "    \\psi_n(x) = \\sqrt{\\frac{2}{L}}\\sin\\Big (\\frac{n \\pi x}{l}\\Big)\n",
    "\\end{equation}\n",
    "\n",
    "El operador $\\hat{p_x^2}$ lo podemos obtener a través del postulado tras reemplazar el operador de momento lineal \n",
    "en la expresión de $p_x^2$:\n",
    "\n",
    "\\begin{align}\n",
    "\\hat{p_x^2} = -i^2\\hbar^2\\frac{d^2}{dx^2} = -\\hbar^2\\frac{d^2}{dx^2}\n",
    "\\end{align}\n",
    "\n",
    "\\begin{align}\n",
    "\\hat{p_x^2}\\psi_n(x) &= -\\hbar^2\\frac{d^2}{dx^2}\\sqrt{\\frac{2}{L}}\\sin\\Big (\\frac{n \\pi x}{l}\\Big) \\\\\n",
    "                     &= \\hbar^2\\frac{d}{dx}\\sqrt{\\frac{2}{L}}\\Big (\\frac{n \\pi x}{l}\\Big)\\cos\\Big (\\frac{n \\pi x}{l}\\Big)\\\\\n",
    "                     &= \\hbar^2\\sqrt{\\frac{2}{L}}\\Big (\\frac{n \\pi x}{l}\\Big)^2\\sin\\Big (\\frac{n \\pi x}{l}\\Big)\n",
    "\\\\\n",
    "                     &= \\Big (\\frac{n \\pi x \\hbar}{l}\\Big)^2\\psi_n(x)\n",
    "\\end{align}\n",
    "\n",
    "Por lo tanton el operador es función propia de las funciones de onda de la PEC-1D con valor propio:\n",
    "\n",
    "$$ p_x^2  = \\Big (\\frac{n \\pi x \\hbar}{l}\\Big)^2 $$\n"
   ]
  },
  {
   "cell_type": "markdown",
   "metadata": {},
   "source": [
    "### Problema 4:"
   ]
  },
  {
   "cell_type": "markdown",
   "metadata": {},
   "source": [
    "La molécula 23Na1H sufre una transición rotacional de J=0 a  J=1 cuando absorbe un fotón de frecuencia 2.92×1011  Hz .\n",
    "\n",
    "    - En qué zona del espectro electromagnética cae esa transición?\n",
    "    - Calcule la separación de energía entre los estados  J=0 y J=1 en kJ/mol\n",
    "    - Calcule la longitud del enlace de equilibrio de la molécula\n"
   ]
  },
  {
   "cell_type": "markdown",
   "metadata": {},
   "source": [
    "**Solución**:\n",
    "\n",
    "- La radiación corresponde a la zona de microondas. \n",
    "\n",
    "Entonces consideremos los níveles de energía del rotor rígido:\n",
    "\n",
    "\n",
    "\n",
    "Como la energía del fotón que produce la transición rotacional debe ser igual a la diferencia de energía Entonces entre  los niveles de energía $J=0$ y $J=1$, tenemos que:\n",
    "\n",
    "$$ \\Delta E_{0\\rightarrow1} = h\\nu $$\n",
    "\n",
    "reemplaznado por los números tenemos que: "
   ]
  },
  {
   "cell_type": "code",
   "execution_count": 36,
   "metadata": {},
   "outputs": [
    {
     "name": "stdout",
     "output_type": "stream",
     "text": [
      "1.9348124516799999e-22\n",
      "La separación de energía es: 0.12 kJ/mol\n"
     ]
    }
   ],
   "source": [
    "freq_foton = 2.92e11 # Hz\n",
    "\n",
    "delta_E = (h*freq_foton) \n",
    "print(delta_E)\n",
    "delta_E_kJ_mol = delta_E * avog/1000 # en Kj/mol\n",
    "print('La separación de energía es: {} kJ/mol'.format(np.round(delta_E_kJ_mol, 2)))"
   ]
  },
  {
   "cell_type": "markdown",
   "metadata": {},
   "source": [
    "\\begin{align}\n",
    "E_J= J(J+1)\\frac{\\hbar^2}{2I}\n",
    "\\end{align}\n",
    "\n",
    "En esta ecuación $J$ es el número cuántico asociado al momento angular de la molécula rotando alrededor de su centro de masa y $I$ es el momento de inercia de la molécula que está dado por:\n",
    "\n",
    "\\begin{align}\n",
    " I = \\mu d²\n",
    "\\end{align}\n",
    "\n",
    "$d$ es la distancia de enlace de la molécula, y el paramentro que deseamos calcular. Además la masa reducioda $\\mu$ está dada por:\n",
    "\n",
    "\\begin{align}\n",
    " \\mu = \\frac{m_1m_2}{m_1 + m2}\n",
    "\\end{align}\n",
    "\n",
    "donde $m_1$ y $m_2$ son la masa de los átomos 1 y 2 respectivamente. \n",
    "\n",
    "Entonces debemos considerar los niveles de energía $J=0$ y $J=1$ y despejar $d$:\n",
    "\n",
    "\\begin{align}\n",
    "\\Delta E_{10} =& 1(1+1)\\frac{\\hbar^2}{2\\mu d²} - 0(0+1)\\frac{\\hbar^2}{2\\mu d²} = \\frac{\\hbar^2}{\\mu d²} \\\\\n",
    "d² =& \\frac{\\hbar^2}{\\mu \\Delta E_{10}}\\\\\n",
    "d =& \\sqrt{\\frac{\\hbar^2}{\\mu \\Delta E_{10}}} = \\hbar\\sqrt{\\frac{1}{\\mu \\Delta E_{10}} }\\\\\n",
    "\\end{align}\n",
    "\n"
   ]
  },
  {
   "cell_type": "code",
   "execution_count": 38,
   "metadata": {},
   "outputs": [
    {
     "name": "stdout",
     "output_type": "stream",
     "text": [
      "La masa reducida es: 1.5913499133333333e-27 kg\n",
      "La distancia de enlace de la molécula problema es: 1.901 Angstrom\n"
     ]
    }
   ],
   "source": [
    "def mu(m1, m2):\n",
    "    return (m1*m2)/(m1+m2)\n",
    "\n",
    "def dist(mu, dE):\n",
    "    return qcel.constants.hbar * np.sqrt(1/(mu*dE))\n",
    "\n",
    "mred = mu(23,1)*qcel.constants.amu2kg # Debo transformar masa de amu a kg por eso multiplico por ese factor al final!!\n",
    "\n",
    "d = dist(mred, delta_E)\n",
    "print(\"La masa reducida es: {} kg\".format(mred))\n",
    "print(\"La distancia de enlace de la molécula problema es: {} Angstrom\".format(np.round(d*10**10, 3)))"
   ]
  },
  {
   "cell_type": "code",
   "execution_count": null,
   "metadata": {},
   "outputs": [],
   "source": []
  }
 ],
 "metadata": {
  "kernelspec": {
   "display_name": "Python 3",
   "language": "python",
   "name": "python3"
  },
  "language_info": {
   "codemirror_mode": {
    "name": "ipython",
    "version": 3
   },
   "file_extension": ".py",
   "mimetype": "text/x-python",
   "name": "python",
   "nbconvert_exporter": "python",
   "pygments_lexer": "ipython3",
   "version": "3.7.7"
  }
 },
 "nbformat": 4,
 "nbformat_minor": 4
}
