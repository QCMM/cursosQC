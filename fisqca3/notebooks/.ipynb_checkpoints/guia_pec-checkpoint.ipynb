{
 "cells": [
  {
   "cell_type": "markdown",
   "metadata": {},
   "source": [
    "## Desarollos guía y test: Particula en una caja 1D"
   ]
  },
  {
   "cell_type": "code",
   "execution_count": 1,
   "metadata": {},
   "outputs": [],
   "source": [
    "import qcelemental as qcel\n",
    "import numpy as np\n",
    "from sympy import *\n",
    "from scipy import integrate as integracion_num\n",
    "\n",
    "c = qcel.constants.c\n",
    "h = qcel.constants.h\n",
    "me= qcel.constants.me\n",
    "pi = np.pi\n",
    "avog = qcel.constants.get(\"Avogadro constant\")\n",
    "J2kJmol = avog/1000\n",
    "\n",
    "\n",
    "## Definición de energía y función de onda.\n",
    "def E(n,l,m):\n",
    "    return (n**2 * h**2 / (8 * m * l**2))"
   ]
  },
  {
   "cell_type": "markdown",
   "metadata": {},
   "source": [
    "#### Pregunta 3 Test \n",
    "\n",
    "Calcule la separación de energía entre el estado n=4 y n=5 para un electrón en una caja de largo 1nm. Exprese su resultado en KJ/mol. La separación de energía corresponde a:\n",
    "\n",
    "\\begin{align}\n",
    "    \\Delta E &= \\frac{n_2^2h^2}{8ml^2} - \\frac{n_1^2h^2}{8ml^2}  \\\\\n",
    "             &= (n_2^2 - n_1^2)\\frac{h^2}{8ml^2}\n",
    "\\end{align}"
   ]
  },
  {
   "cell_type": "code",
   "execution_count": 2,
   "metadata": {},
   "outputs": [
    {
     "name": "stdout",
     "output_type": "stream",
     "text": [
      "La separacion entre los niveles de energía n=4 y n=5 es: 326.5 kJ/mol\n"
     ]
    }
   ],
   "source": [
    "def deltaE(n1,n2,l):\n",
    "    return (n2**2 - n1**2)*(h**2)/(8*me*l**2)\n",
    "\n",
    "l = 10**(-9)\n",
    "n1 = 4\n",
    "n2 = 5\n",
    "\n",
    "dE = deltaE(4,5,l)*J2kJmol\n",
    "print(\"La separacion entre los niveles de energía n=4 y n=5 es: {} kJ/mol\".format(np.round(dE,1)))"
   ]
  },
  {
   "cell_type": "markdown",
   "metadata": {},
   "source": [
    "#### Pregunta 11 Test\n",
    "\n",
    "Calcule la energía de punto cero (estado fundamental) de un electrón en una caja 1D de largo 5nm.  Entregue el resultado de su calculo en las unidades  kJ/mol. "
   ]
  },
  {
   "cell_type": "code",
   "execution_count": 3,
   "metadata": {},
   "outputs": [
    {
     "name": "stdout",
     "output_type": "stream",
     "text": [
      "La energía de punto cero es: 1.45 kJ/mol\n"
     ]
    }
   ],
   "source": [
    "l = 5*10**(-9)\n",
    "p0 = E(1,l,me)*J2kJmol\n",
    "print(\"La energía de punto cero es: {} kJ/mol\".format(np.round(p0, 2)))"
   ]
  },
  {
   "cell_type": "markdown",
   "metadata": {},
   "source": [
    "### Ejercicio 4\n",
    "\n",
    "Calcule la probabilidad que una partícula en una caja 1-D, de largo l = 1.0 Å y en el estado\n",
    "electrónico n = 4 se encuentre entre l/3 ≥ x ≥ l/2.\n",
    "\n",
    "Solución:\n",
    "\n",
    "para calcular la probabilidad es necesarion integrar la densidad de probabilidad:\n",
    "\n",
    "\\begin{equation}\n",
    "P = \\frac{2}{l}\\int_{l/3}^{l/2} \\sin^2\\Big (\\frac{n \\pi x}{l}\\Big)dx\n",
    "\\end{equation}\n",
    "\n",
    "Entonces definamos la función de la densidad de probabilidad para integrarla:"
   ]
  },
  {
   "cell_type": "code",
   "execution_count": 4,
   "metadata": {},
   "outputs": [],
   "source": [
    "init_printing(use_unicode=False, wrap_line=False)\n",
    "\n",
    "x = Symbol('x', nonzero=True)\n",
    "l, n, pi_s = symbols('l n pi', nonzero=True)\n",
    "\n",
    "dprob = 2/l * (sin((n*pi_s*x)/l))**2"
   ]
  },
  {
   "cell_type": "code",
   "execution_count": 5,
   "metadata": {},
   "outputs": [
    {
     "data": {
      "image/png": "[encoded data removed]",
      "text/latex": [
       "$\\displaystyle \\frac{2 \\sin^{2}{\\left(\\frac{n \\pi x}{l} \\right)}}{l}$"
      ],
      "text/plain": [
       "     2/n*pi*x\\\n",
       "2*sin |------|\n",
       "      \\  l   /\n",
       "--------------\n",
       "      l       "
      ]
     },
     "execution_count": 5,
     "metadata": {},
     "output_type": "execute_result"
    }
   ],
   "source": [
    "dprob"
   ]
  },
  {
   "cell_type": "markdown",
   "metadata": {},
   "source": [
    "Despues integramos la densidad de probabilidad entre los límites $l/3 < x < l/2$."
   ]
  },
  {
   "cell_type": "code",
   "execution_count": 6,
   "metadata": {},
   "outputs": [
    {
     "data": {
      "image/png": "[encoded data removed]",
      "text/latex": [
       "$\\displaystyle \\frac{n \\pi + 3 \\sin{\\left(\\frac{2 n \\pi}{3} \\right)} - 3 \\sin{\\left(n \\pi \\right)}}{6 n \\pi}$"
      ],
      "text/plain": [
       "            /2*n*pi\\              \n",
       "n*pi + 3*sin|------| - 3*sin(n*pi)\n",
       "            \\  3   /              \n",
       "----------------------------------\n",
       "              6*n*pi              "
      ]
     },
     "execution_count": 6,
     "metadata": {},
     "output_type": "execute_result"
    }
   ],
   "source": [
    "i = integrate(dprob, (x, l/3, l/2))\n",
    "i.simplify()"
   ]
  },
  {
   "cell_type": "markdown",
   "metadata": {},
   "source": [
    "Este es el resultado de la integral entre los límites de integración indicados para un estado de energía $n$ general. Ahora solamente falta evaluar la integral para el estado $n$ que pide el ejercicio."
   ]
  },
  {
   "cell_type": "code",
   "execution_count": 7,
   "metadata": {},
   "outputs": [],
   "source": [
    "#i.subs(n, 4)"
   ]
  },
  {
   "cell_type": "code",
   "execution_count": 8,
   "metadata": {},
   "outputs": [],
   "source": [
    "g_eval = lambdify([n, pi_s], i)"
   ]
  },
  {
   "cell_type": "code",
   "execution_count": 9,
   "metadata": {},
   "outputs": [
    {
     "name": "stdout",
     "output_type": "stream",
     "text": [
      "La probabilidad es: 0.201\n"
     ]
    }
   ],
   "source": [
    "p = g_eval(4,np.pi)\n",
    "print(\"La probabilidad es: {}\".format(np.round(p, 3)))"
   ]
  },
  {
   "cell_type": "markdown",
   "metadata": {},
   "source": [
    "### Ejercicio 5. \n",
    "\n",
    "Cuando una partícula de masa $9.1x10^{-28}g$ en una cierta caja 1D pasa del estado $n = 5$ al\n",
    "estado $n = 2$ emite un fotón de frecuencia $6.0x10^{14} Hz$.\n",
    "¿Cuál es el largo de la caja? (Exprese su resultado en $nm$)\n",
    "\n",
    "**Solución:** En este caso conocemos la frequencia de la radiación y queremos calcular el largo de la caja. \n",
    "\n",
    "\\begin{align}\n",
    "\\Delta E_n = h\\nu = (n_1^2 - n_2^2)\\frac{h^2}{8ml^2} \\\\\n",
    "\\nu = \\frac{(n_2^2 - n_1^2)h}{8ml²}\\\\\n",
    "l = \\sqrt{\\frac{(n_1^2 - n_2^2)h}{8m\\nu}}\\\\\n",
    "\\end{align}\n",
    "\n",
    "Esta equación la podemos escribir en código y evaluar. Recuerde que al tratarse de una emisión el $\\Delta E_n$ \n",
    "está dado por la diferencia $(n_1^2 - n_2^2)$, y de esa forma se obtiene un valor positivo para la differencia de energía entre los distintos niveles. "
   ]
  },
  {
   "cell_type": "code",
   "execution_count": 10,
   "metadata": {},
   "outputs": [
    {
     "name": "stdout",
     "output_type": "stream",
     "text": [
      "El largo de la caja es: 17.84 nm\n"
     ]
    }
   ],
   "source": [
    "def l_fun(n1, n2,nu):\n",
    "    return np.sqrt(((n1**2 - n2**2)*h)/(8*me*nu))\n",
    "\n",
    "\n",
    "n1 = 5\n",
    "n2 = 2\n",
    "nu = 6.0e14\n",
    "largo = l_fun(n1,n2,nu)\n",
    "print(\"El largo de la caja es: {} nm\".format(np.round(largo*10e9, 2)))"
   ]
  },
  {
   "cell_type": "markdown",
   "metadata": {},
   "source": [
    "### Ejercicio 6\n",
    "\n",
    "Considere un electrón en una caja 1-D de largo 0.1nm. Encuentre la frecuencia y longitud de\n",
    "onda de un fotón emitido cuando el electrón:\n",
    "\n",
    "- pasa del estado n = 3 al n = 2\n",
    "- pasa del estado n = 4 al n = 2\n",
    "\n",
    "¿Que fotón tiene mayor longitud de onda?\n",
    "\n",
    "**Solución**: Este ejercicio es similar al anterior, solo que conocemos el largo de la caja y nos piden la frecuencia y longitud de onda de emisión.\n",
    "\n",
    "Frecuencia: \n",
    "\\begin{align}\n",
    "\\Delta E_n = h\\nu = (n_1^2 - n_2^2)\\frac{h^2}{8ml^2} \\\\\n",
    "\\nu = \\frac{(n_1^2 - n_2^2)h}{8ml²}\\\\\n",
    "\\end{align}\n",
    "\n",
    "Longitud de onda:\n",
    "\\begin{align}\n",
    "\\Delta E_n = h\\frac{c}{\\lambda} = (n_1^2 - n_2^2)\\frac{h^2}{8ml^2} \\\\\n",
    "\\frac{c}{\\lambda} = \\frac{(n_1^2 - n_2^2)h}{8ml²}\\\\\n",
    "\\lambda = \\frac{8ml²c}{(n_1^2 - n_2^2)h}\n",
    "\\end{align}\n",
    "\n",
    "Podemos implementar ambas ecuaciones:"
   ]
  },
  {
   "cell_type": "code",
   "execution_count": 11,
   "metadata": {},
   "outputs": [],
   "source": [
    "def nu(n1,n2,l):\n",
    "    return ((n1**2 -n2**2)*h)/(8*me*l**2)\n",
    "\n",
    "def lam(n1,n2,l):\n",
    "    return (8*me*l**2*c)/((n1**2 -n2**2)*h)"
   ]
  },
  {
   "cell_type": "markdown",
   "metadata": {},
   "source": [
    "Ahora podemos calcular los resultado para las dos transiciones del ejecricio: "
   ]
  },
  {
   "cell_type": "code",
   "execution_count": 12,
   "metadata": {},
   "outputs": [
    {
     "name": "stdout",
     "output_type": "stream",
     "text": [
      "\n",
      "Emisión de n = 3 a n = 2\n",
      "La frecuencia del fotón emitido es 4.55e+14 Hz\n",
      "La longitud de onda del fotón emitido es 6594.38 nm\n",
      "\n",
      "Emisión de n = 4 a n = 2\n",
      "La frecuencia del fotón emitido es 1.09e+15 Hz\n",
      "La longitud de onda del fotón emitido es 2747.66 nm\n"
     ]
    }
   ],
   "source": [
    "# De  n=3 a n=2:\n",
    "l=0.1*10e-9\n",
    "\n",
    "n1 = 3\n",
    "n2 = 2\n",
    "\n",
    "frecu = nu(n1,n2,l)\n",
    "long_onda = lam(n1,n2,l)\n",
    "\n",
    "print(\"\\nEmisión de n = {} a n = {}\".format(n1,n2))\n",
    "print(\"La frecuencia del fotón emitido es {} Hz\".format(np.format_float_scientific(frecu, 2)))\n",
    "print(\"La longitud de onda del fotón emitido es {} nm\".format(np.round(long_onda*10e9, 2)))\n",
    "\n",
    "n1 = 4\n",
    "n2 = 2\n",
    "\n",
    "frecu = nu(n1,n2,l)\n",
    "long_onda = lam(n1,n2,l)\n",
    "\n",
    "print(\"\\nEmisión de n = {} a n = {}\".format(n1,n2))\n",
    "print(\"La frecuencia del fotón emitido es {} Hz\".format(np.format_float_scientific(frecu, 2)))\n",
    "print(\"La longitud de onda del fotón emitido es {} nm\".format(np.round(long_onda*10e9, 2)))\n"
   ]
  },
  {
   "cell_type": "markdown",
   "metadata": {},
   "source": [
    "Claramente el fotón de mayor energía corresponde al fotón emitido desde el nivel de energía más alto (n=4) que tiene una mayor frecuencia y menor longitud de onda."
   ]
  },
  {
   "cell_type": "markdown",
   "metadata": {},
   "source": [
    "### Ejercicio 7\n",
    "\n",
    "La frecuencia de absorción de n = 1 a n = 2 para un electrón en una caja 1D es $6.0x10^{12}$ Hz.\n",
    "Encuentre frecuencia de absorción de n = 2 a n = 3, para este sistema.\n",
    "\n",
    "Finalmente este ejercicio es una combinación de los dos anteriores donde debemos primero encontrar el largo de \n",
    "la caja mediante la primera absorción y luego utilizar ese dato para calcular la frecuencia de adsorción:\n",
    "\n",
    "$$\n",
    "n_1 = 1, n_2 = 2, n_3 = 2, n_4 = 3\n",
    "$$\n",
    "\n",
    "\\begin{align}\n",
    "l = \\sqrt{\\frac{(n_2^2 - n_1^2)h}{8m\\nu}}\\\\\n",
    "\\end{align}\n",
    "\n",
    "\\begin{align}\n",
    "\\nu = \\frac{(n_4^2 - n_3^2)h}{8ml²}\\\\\n",
    "\\end{align}\n"
   ]
  },
  {
   "cell_type": "code",
   "execution_count": 13,
   "metadata": {},
   "outputs": [
    {
     "name": "stdout",
     "output_type": "stream",
     "text": [
      "El largo  de la caja es 67.43 nm\n"
     ]
    }
   ],
   "source": [
    "n1 = 1\n",
    "n2 = 2\n",
    "nu_e = 6.0e12\n",
    "\n",
    "largo = l_fun(n2,n1,nu_e)\n",
    "print(\"El largo  de la caja es {} nm\".format(np.round(largo*10e9, 2)))"
   ]
  },
  {
   "cell_type": "code",
   "execution_count": 14,
   "metadata": {},
   "outputs": [
    {
     "name": "stdout",
     "output_type": "stream",
     "text": [
      "La frecuencia del fotón emitido es 1.e+13 Hz\n"
     ]
    }
   ],
   "source": [
    "n3 = 2\n",
    "n4 = 3\n",
    "\n",
    "frecu = nu(n4,n3,largo)\n",
    "print(\"La frecuencia del fotón emitido es {} Hz\".format(np.format_float_scientific(frecu, 2)))"
   ]
  },
  {
   "cell_type": "markdown",
   "metadata": {},
   "source": [
    "### Ejercicio 8\n",
    "\n",
    "Una partícula se encuentra en el estado fundamental de una caja 1D de 20nm. Calcule la\n",
    "probabilidad que la partícula se encuentre entre los siguientes valores:\n",
    "\n",
    "\n",
    "\n",
    "\n",
    "- x = 9.95 y 10.0 nm\n",
    "- x = 2.95 y 3.05 nm\n",
    "- x = 19.90 y 20.00 nm\n",
    "- En la primera mitad derecha\n",
    "- En el tercio del medio\n",
    "\n",
    "Al estar en el estado fundamental, el electrón se encuentra en en estado de energía n=1. Debemos evaluar la \n",
    "la integral de densidades de probabilidad que ya derivamos en el ejercicio 4 para poder obtener los distintos valores de densidad de probabilida. \n",
    "\n",
    "\\begin{equation}\n",
    "P = \\frac{2}{l}\\int \\sin^2\\Big (\\frac{n \\pi x}{l}\\Big)dx\n",
    "\\end{equation}\n",
    "\n",
    "Podemos usar integración numérica para obtener la solución\n"
   ]
  },
  {
   "cell_type": "code",
   "execution_count": 15,
   "metadata": {},
   "outputs": [],
   "source": [
    "def dP(x,n,l):\n",
    "    return 2/l * (np.sin((n * np.pi * x)/l))**2"
   ]
  },
  {
   "cell_type": "markdown",
   "metadata": {},
   "source": [
    "Esta es la expresión general que debemos evaluar entre los distintos límites de integración"
   ]
  },
  {
   "cell_type": "code",
   "execution_count": 16,
   "metadata": {},
   "outputs": [
    {
     "name": "stdout",
     "output_type": "stream",
     "text": [
      "La probabilidad de encontrar la partícula en el segmento entre 9.95 y 10.0 nm es: 0.005\n",
      "La probabilidad de encontrar la partícula en el segmento entre 2.95 y 3.0 nm es: 0.0\n",
      "La probabilidad de encontrar la partícula en el segmento entre 19.9 y 20.0 nm es: 0.0\n",
      "La probabilidad de encontrar la partícula en el segmento entre 6.67 y 13.33 nm es: 0.609\n",
      "La probabilidad de encontrar la partícula en el segmento entre 0.0 y 10.0 nm es: 0.5\n"
     ]
    }
   ],
   "source": [
    "n = 1\n",
    "l = 20.0\n",
    "l1 = 9.95\n",
    "l2 = 10.0\n",
    "\n",
    "prob1 = integracion_num.quad(dP, l1, l2, args= (n,l))[0]\n",
    "print(\"La probabilidad de encontrar la partícula en el segmento entre {} y {} nm es: {}\".format(l1, l2, np.round(prob1, 5)))\n",
    "\n",
    "\n",
    "l1 = 2.95\n",
    "l2 = 3.00\n",
    "\n",
    "prob1 = integracion_num.quad(dP, l2 ,l2,  args=(n,l))[0]\n",
    "print(\"La probabilidad de encontrar la partícula en el segmento entre {} y {} nm es: {}\".format(l1, l2, np.round(prob1, 5)))\n",
    "\n",
    "\n",
    "l1 = 19.90\n",
    "l2 = 20.00\n",
    "\n",
    "prob1 = integracion_num.quad(dP, l1, l2, args=(n,l))[0]\n",
    "print(\"La probabilidad de encontrar la partícula en el segmento entre {} y {} nm es: {}\".format(l1, l2, np.round(prob1, 5)))\n",
    "\n",
    "\n",
    "l1 = 20.00*1/3\n",
    "l2 = 20.00*2/3\n",
    "\n",
    "prob1 = integracion_num.quad(dP, l1, l2, args=(n,l))[0]\n",
    "print(\"La probabilidad de encontrar la partícula en el segmento entre {} y {} nm es: {}\".format(np.round(l1,2), np.round(l2, 2), np.round(prob1, 5)))\n",
    "\n",
    "\n",
    "l1 = 0.0\n",
    "l2 = 10.0\n",
    "\n",
    "prob1 = integracion_num.quad(dP, l1, l2, args= (n,l))[0]\n",
    "print(\"La probabilidad de encontrar la partícula en el segmento entre {} y {} nm es: {}\".format(l1, l2, np.round(prob1, 5)))"
   ]
  },
  {
   "cell_type": "markdown",
   "metadata": {},
   "source": [
    "Como podemos ver, si el intervalo de integración es pequeño, la probabilidad de encontrar la partícula en ese intervalo es es muy pequeña también, aunque de todas formas es en el centro es más probable que en los extremos de la caja. Además en el tercio central existe un 60% de probabilidad de encontrar la partícula al hacer una observación."
   ]
  },
  {
   "cell_type": "markdown",
   "metadata": {},
   "source": [
    "### Ejercicio 9\n",
    "\n",
    "Calcule la energía para los primeros tres estados de un electrón y de un protón en una caja de\n",
    "longitud 5.00 nm y en una de 50.0 nm.\n",
    "\n",
    "**Solución:**  Como la energía total es inversamente proporcional a la masa de las partículas, mientras mayor\n",
    "la masa menor es la energía de los distintos estados:"
   ]
  },
  {
   "cell_type": "code",
   "execution_count": 17,
   "metadata": {},
   "outputs": [],
   "source": [
    "m_electron = me\n",
    "m_proton = qcel.constants.proton_mass"
   ]
  },
  {
   "cell_type": "code",
   "execution_count": 18,
   "metadata": {},
   "outputs": [
    {
     "name": "stdout",
     "output_type": "stream",
     "text": [
      "Para l = 5.00 nm\n",
      "\n",
      "La energía del electrón en el estado 1 y caja de largo 5e-09 m es 1.451 kJ/mol\n",
      "La energía del proton en el estado 1 y caja de largo 5e-09 m es 0.001 kJ/mol\n",
      "\n",
      "La energía del electrón en el estado 2 y caja de largo 5e-09 m es 5.805 kJ/mol\n",
      "La energía del proton en el estado 2 y caja de largo 5e-09 m es 0.003 kJ/mol\n",
      "\n",
      "La energía del electrón en el estado 3 y caja de largo 5e-09 m es 13.061 kJ/mol\n",
      "La energía del proton en el estado 3 y caja de largo 5e-09 m es 0.007 kJ/mol\n",
      "---------------------------------------------\n",
      "Para l = 50.00 nm\n",
      "\n",
      "La energía del electrón en el estado 1 y caja de largo 5e-08 m es 0.015 kJ/mol\n",
      "La energía del proton en el estado 1 y caja de largo 5e-08 m es 1e-05 kJ/mol\n",
      "\n",
      "La energía del electrón en el estado 2 y caja de largo 5e-08 m es 0.058 kJ/mol\n",
      "La energía del proton en el estado 2 y caja de largo 5e-08 m es 3e-05 kJ/mol\n",
      "\n",
      "La energía del electrón en el estado 3 y caja de largo 5e-08 m es 0.131 kJ/mol\n",
      "La energía del proton en el estado 3 y caja de largo 5e-08 m es 7e-05 kJ/mol\n"
     ]
    }
   ],
   "source": [
    "l1 = 5.00e-9\n",
    "n1 = 1\n",
    "n2 = 2\n",
    "n3 = 3\n",
    "\n",
    "Ee_n1_l1 = E(n1, l1, m_electron)*J2kJmol\n",
    "Ep_n1_l1 = E(n1, l1, m_proton)*J2kJmol\n",
    "\n",
    "print(\"Para l = 5.00 nm\\n\")\n",
    "print(\"La energía del electrón en el estado {} y caja de largo {} m es {} kJ/mol\".format(n1, l1, np.round(Ee_n1_l1,3)))\n",
    "print(\"La energía del proton en el estado {} y caja de largo {} m es {} kJ/mol\".format(n1, l1, np.round(Ep_n1_l1,3)))\n",
    "\n",
    "Ee_n2_l1 = E(n2, l1, m_electron)*J2kJmol\n",
    "Ep_n2_l1 = E(n2, l1, m_proton)*J2kJmol\n",
    "\n",
    "print(\"\\nLa energía del electrón en el estado {} y caja de largo {} m es {} kJ/mol\".format(n2, l1, np.round(Ee_n2_l1,3)))\n",
    "print(\"La energía del proton en el estado {} y caja de largo {} m es {} kJ/mol\".format(n2, l1, np.round(Ep_n2_l1,3)))\n",
    "\n",
    "Ee_n3_l1 = E(n3, l1, m_electron)*J2kJmol\n",
    "Ep_n3_l1 = E(n3, l1, m_proton)*J2kJmol\n",
    "\n",
    "print(\"\\nLa energía del electrón en el estado {} y caja de largo {} m es {} kJ/mol\".format(n3, l1, np.round(Ee_n3_l1,3)))\n",
    "print(\"La energía del proton en el estado {} y caja de largo {} m es {} kJ/mol\".format(n3, l1, np.round(Ep_n3_l1,3)))\n",
    "\n",
    "print(\"---------------------------------------------\")\n",
    "print(\"Para l = 50.00 nm\\n\")\n",
    "l1 = 50.00e-9\n",
    "Ee_n1_l1 = E(n1, l1, m_electron)*J2kJmol\n",
    "Ep_n1_l1 = E(n1, l1, m_proton)*J2kJmol\n",
    "\n",
    "print(\"La energía del electrón en el estado {} y caja de largo {} m es {} kJ/mol\".format(n1, l1, np.round(Ee_n1_l1,3)))\n",
    "print(\"La energía del proton en el estado {} y caja de largo {} m es {} kJ/mol\".format(n1, l1, np.round(Ep_n1_l1,5)))\n",
    "\n",
    "Ee_n2_l1 = E(n2, l1, m_electron)*J2kJmol\n",
    "Ep_n2_l1 = E(n2, l1, m_proton)*J2kJmol\n",
    "\n",
    "print(\"\\nLa energía del electrón en el estado {} y caja de largo {} m es {} kJ/mol\".format(n2, l1, np.round(Ee_n2_l1,3)))\n",
    "print(\"La energía del proton en el estado {} y caja de largo {} m es {} kJ/mol\".format(n2, l1, np.round(Ep_n2_l1,5)))\n",
    "\n",
    "Ee_n3_l1 = E(n3, l1, m_electron)*J2kJmol\n",
    "Ep_n3_l1 = E(n3, l1, m_proton)*J2kJmol\n",
    "\n",
    "print(\"\\nLa energía del electrón en el estado {} y caja de largo {} m es {} kJ/mol\".format(n3, l1, np.round(Ee_n3_l1,3)))\n",
    "print(\"La energía del proton en el estado {} y caja de largo {} m es {} kJ/mol\".format(n3, l1, np.round(Ep_n3_l1,5)))\n"
   ]
  },
  {
   "cell_type": "markdown",
   "metadata": {},
   "source": [
    "Como era de esperarse, la energía aumenta a medida que la partícula ocupa estados de energía más alto, además para el proton el espaciado entre los niveles de energía es notoriamnete menor que para el electrón. Finalmente al estirar la caja la energía cinética de correspondientes a los nivels de energía disminuyen. "
   ]
  },
  {
   "cell_type": "markdown",
   "metadata": {},
   "source": [
    "### Ejercicio 10: \n",
    "Un partícula de masa m se mueve en una caja 1D de largo l, con fronteras en x = 0 y x = l.\n",
    "Calcule la probabilidad que la partícula sea encontrada en la región 0 ≥ x ≥ l.\n",
    "\n",
    "**Solución**: Este ejercicio es muy similar al Ejercicio 4, solo que hay que calcular la probabilidad en \n",
    "función del estado de energía de la partícula ($n$)."
   ]
  },
  {
   "cell_type": "code",
   "execution_count": 19,
   "metadata": {},
   "outputs": [
    {
     "data": {
      "image/png": "[encoded data removed]",
      "text/latex": [
       "$\\displaystyle \\frac{2 \\sin^{2}{\\left(\\frac{n \\pi x}{l} \\right)}}{l}$"
      ],
      "text/plain": [
       "     2/n*pi*x\\\n",
       "2*sin |------|\n",
       "      \\  l   /\n",
       "--------------\n",
       "      l       "
      ]
     },
     "execution_count": 19,
     "metadata": {},
     "output_type": "execute_result"
    }
   ],
   "source": [
    "x = Symbol('x', nonzero=True)\n",
    "l, n, pi_s = symbols('l n pi', nonzero=True)\n",
    "\n",
    "dprob = 2/l * (sin((n*pi_s*x)/l))**2\n",
    "dprob"
   ]
  },
  {
   "cell_type": "code",
   "execution_count": 20,
   "metadata": {},
   "outputs": [
    {
     "data": {
      "image/png": "[encoded data removed]",
      "text/latex": [
       "$\\displaystyle \\frac{1}{4} - \\frac{\\sin{\\left(\\frac{n \\pi}{2} \\right)}}{2 n \\pi}$"
      ],
      "text/plain": [
       "       /n*pi\\\n",
       "    sin|----|\n",
       "1      \\ 2  /\n",
       "- - ---------\n",
       "4     2*n*pi "
      ]
     },
     "execution_count": 20,
     "metadata": {},
     "output_type": "execute_result"
    }
   ],
   "source": [
    "i2 = integrate(dprob, (x, 0, l/4))\n",
    "i2.simplify()"
   ]
  },
  {
   "cell_type": "markdown",
   "metadata": {},
   "source": [
    "Por lo tanto, dependiendo del valor de n la probablidad en el primer cuarto de la caja puede variar. "
   ]
  },
  {
   "cell_type": "markdown",
   "metadata": {},
   "source": [
    "### Ejercicio 11: \n",
    "\n",
    "Un estudiante 1D que obtuvo una nota muy mala en un control. Es tirado a un pozo de\n",
    "longitud 5m como castigo y para que pueda estudiar sin distracciones. Al tratar de aprender la materia\n",
    "camina de un lado a otro a velocidad constante de 1.5 m/s. ¿ En qué estado cuántico se encuentra?"
   ]
  },
  {
   "cell_type": "markdown",
   "metadata": {},
   "source": [
    "Esto es obviamnete una aproximación, pero si consideramos que el cero de la energía potencial está dentro\n",
    "del pozo podemos asumir que el estudiante solamente tiene energía cinética y podemos tratarlo de forma cuántica:\n",
    "\n",
    "\\begin{align}\n",
    "     E_n &= \\frac{n^2h^2}{8ml^2}\n",
    "\\end{align}\n",
    "\n",
    "Sabemos como calular la energía cinética de una objeto macroscópico:\n",
    "\n",
    "\\begin{align}\n",
    "     K &= \\frac{1}{2}mv^2 \n",
    "\\end{align}\n",
    "\n",
    "Por lo tanto si asumimos que el estudiante tiene una masa de 65kg, podemos estimar su estado cuántico que naturalmente será muy alto:\n",
    "\n",
    "\\begin{align}\n",
    "      \\frac{1}{2}mv^2 = \\frac{n^2h^2}{8ml^2} \\\\\n",
    "      n = \\sqrt{\\frac{8m^2v^2l^2}{2h^2}} = \\sqrt{\\frac{4m^2v^2l^2}{h^2}}\n",
    "\\end{align}"
   ]
  },
  {
   "cell_type": "code",
   "execution_count": 21,
   "metadata": {},
   "outputs": [
    {
     "name": "stdout",
     "output_type": "stream",
     "text": [
      "\n",
      "El estado cuántico del estudiante corresponde a n = 182512206322042190642434405100945408\n"
     ]
    }
   ],
   "source": [
    "def n(v,m,l):\n",
    "    return int(np.sqrt((4* m * v**2 * l**2)/h**2))\n",
    "\n",
    "v = 1.5\n",
    "m = 65.0\n",
    "l = 5.0\n",
    "ec = n(v,m,l)\n",
    "\n",
    "print(\"\\nEl estado cuántico del estudiante corresponde a n = {}\".format(ec))"
   ]
  },
  {
   "cell_type": "markdown",
   "metadata": {},
   "source": [
    "Como pueden ver.... muuuy grande."
   ]
  },
  {
   "cell_type": "markdown",
   "metadata": {},
   "source": [
    "## Evaluación de Recuperación"
   ]
  },
  {
   "cell_type": "markdown",
   "metadata": {},
   "source": [
    "Un  electrón  está  atrapado  en  el  primer  estado  excitado  (n=2)  dentro  de  una  caja \n",
    "monodimensional de longitud 1.0 nm. ¿Cuál es la probabilidad de encontrar este electrón entre \n",
    "las posiciones 0.50 y 0.70 nm ?"
   ]
  },
  {
   "cell_type": "code",
   "execution_count": 24,
   "metadata": {},
   "outputs": [
    {
     "data": {
      "image/png": "[encoded data removed]",
      "text/latex": [
       "$\\displaystyle 0.15322553581056791$"
      ],
      "text/plain": [
       "0.15322553581056791"
      ]
     },
     "execution_count": 24,
     "metadata": {},
     "output_type": "execute_result"
    }
   ],
   "source": [
    "n = 2\n",
    "l = 1.0\n",
    "l1 = 0.5\n",
    "l2 = 0.7\n",
    "\n",
    "prob = integracion_num.quad(dP, l1, l2, args=(n,l))[0]\n",
    "prob"
   ]
  },
  {
   "cell_type": "markdown",
   "metadata": {},
   "source": [
    "Determine  la  diferencia  energética  entre  el  estado  n=2  y  n=1  para  un  protón  en  una  caja  monodimesional de longitud 100 nm. ¿A qué longitud de onda corresponde esa energía? "
   ]
  },
  {
   "cell_type": "code",
   "execution_count": 26,
   "metadata": {},
   "outputs": [
    {
     "data": {
      "image/png": "[encoded data removed]",
      "text/latex": [
       "$\\displaystyle 1.0884418521541195e-20$"
      ],
      "text/plain": [
       "1.0884418521541195e-20"
      ]
     },
     "execution_count": 26,
     "metadata": {},
     "output_type": "execute_result"
    }
   ],
   "source": [
    "l = 100.\n",
    "dE = deltaE(1,2,l)*J2kJmol\n",
    "dE"
   ]
  },
  {
   "cell_type": "code",
   "execution_count": 29,
   "metadata": {},
   "outputs": [
    {
     "data": {
      "image/png": "[encoded data removed]",
      "text/latex": [
       "$\\displaystyle 0.010990625300089905$"
      ],
      "text/plain": [
       "0.010990625300089905"
      ]
     },
     "execution_count": 29,
     "metadata": {},
     "output_type": "execute_result"
    }
   ],
   "source": [
    "l = 100e-9\n",
    "long_onda = lam(2,1,l)\n",
    "long_onda"
   ]
  },
  {
   "cell_type": "code",
   "execution_count": null,
   "metadata": {},
   "outputs": [],
   "source": []
  }
 ],
 "metadata": {
  "kernelspec": {
   "display_name": "Python 3",
   "language": "python",
   "name": "python3"
  },
  "language_info": {
   "codemirror_mode": {
    "name": "ipython",
    "version": 3
   },
   "file_extension": ".py",
   "mimetype": "text/x-python",
   "name": "python",
   "nbconvert_exporter": "python",
   "pygments_lexer": "ipython3",
   "version": "3.7.4"
  }
 },
 "nbformat": 4,
 "nbformat_minor": 4
}
