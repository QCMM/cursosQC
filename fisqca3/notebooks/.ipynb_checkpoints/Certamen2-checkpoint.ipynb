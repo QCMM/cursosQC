{
 "cells": [
  {
   "cell_type": "code",
   "execution_count": 1,
   "metadata": {},
   "outputs": [],
   "source": [
    "import qcelemental as qcel\n",
    "import numpy as np\n",
    "from sympy import *\n",
    "from scipy import integrate as integracion_num\n",
    "\n",
    "c = qcel.constants.c\n",
    "h = qcel.constants.h\n",
    "me= qcel.constants.me\n",
    "pi = np.pi\n",
    "avog = qcel.constants.get(\"Avogadro constant\")\n",
    "J2kJmol = avog/1000\n"
   ]
  },
  {
   "cell_type": "code",
   "execution_count": 2,
   "metadata": {},
   "outputs": [
    {
     "name": "stdout",
     "output_type": "stream",
     "text": [
      "\n",
      "Constante eléctrica (ε0): 8.854187817e-12 C2⋅N−1⋅m−2 \n",
      "h-barra (ℏ): 1.0545718e-34 Js\n",
      "Carga elemental (e): 1.6021766208e-19 C\n",
      "masa del electron (m_e): 9.10938356e-31 kg\n",
      "Carga elemental en statcoulomb (e'): 1.5189066835168994e-14 N1/2m1\n",
      "Bohr radius (a_0): 5.2917721067e-11 m\n",
      "\n"
     ]
    }
   ],
   "source": [
    "epsilon = qcel.constants.electric_constant\n",
    "hbar = qcel.constants.hbar\n",
    "pi = np.pi\n",
    "e = qcel.constants.elementary_charge\n",
    "a_0 = qcel.constants.atomic_unit_of_length\n",
    "m_e = qcel.constants.electron_mass\n",
    "eprima = e/np.sqrt(4*pi*epsilon)\n",
    "\n",
    "ctes = '''\n",
    "Constante eléctrica (ε0): {} C2⋅N−1⋅m−2 \n",
    "h-barra (ℏ): {} Js\n",
    "Carga elemental (e): {} C\n",
    "masa del electron (m_e): {} kg\n",
    "Carga elemental en statcoulomb (e'): {} N1/2m1\n",
    "Bohr radius (a_0): {} m\n",
    "'''.format(epsilon, hbar, e, m_e, eprima, a_0)\n",
    "print(ctes)"
   ]
  },
  {
   "cell_type": "markdown",
   "metadata": {},
   "source": [
    "# CERTAMEN 2\n",
    "\n",
    "### Problema 1:\n",
    "\n",
    "Considere las funciones de onda del átomo de hidrógeno:\n",
    "\n",
    " \n",
    "\\begin{align}\n",
    "\\psi_{200}\\left(r,\\theta,\\phi\\right) \\\\\n",
    "\\psi_{311}\\left(r,\\theta,\\phi\\right)\n",
    "\\end{align}\n",
    " \n",
    "\n",
    "1.1.:  Escriba la función de onda completa para ambos estados.\n",
    "\n",
    "1.2.: Calcule la energía electrónica de ambos estados y determine el orden energético.\n",
    "\n",
    "1.3.: Calcule la frecuencia de un fotón que puede generar la transición del estado de menor energía al estado de mayor energía\n",
    "\n",
    "1.4.: ¿En que estado va ser mayor la probabilidad de encontrar el electrón cercano al núcleo? Justifique su respuesta. \n",
    "\n",
    "\n",
    "**Solución**:\n",
    "\n",
    "**1.1.:  Escriba la función de onda completa para ambos estados (2 pts):** \n",
    "\n",
    "La función de onda para los estados del enunciado son:\n",
    "\n",
    "\\begin{align}\n",
    "\\psi_{200}\\left(r,\\theta,\\phi\\right)  &= R_{20}(r) Y_0^0(\\theta, \\phi) = \\frac{1}{\\pi^{1/2}}\\left( \\frac{Z}{2a} \\right)^{3/2} \\left(1 - \\frac{Zr}{2a} \\right)e^{-Zr/2a} \n",
    "\\end{align}\n",
    "\n",
    "\n"
   ]
  },
  {
   "cell_type": "markdown",
   "metadata": {},
   "source": [
    "\\begin{align}\n",
    "\\psi_{311}(r) &= -\\frac{2}{3\\sqrt{3}}  \\left(\\frac{Z}{a}\\right)^{3/2}  \\left(1 - \\frac{2Zr}{3a} + 2\\frac{Z^2r^2}{27a_0^2}\\right) e^{\\frac{-2Z}{3a}} \\frac{1}{2}\\sqrt{\\frac{3}{2\\pi}} e^{i\\phi} sin(\\theta)\\\\\n",
    "&= -\\frac{1}{3\\sqrt{2\\pi}}  \\left(\\frac{Z}{a}\\right)^{3/2}  \\left(1 - \\frac{2Zr}{3a} + 2\\frac{Z^2r^2}{27a_0^2}\\right) e^{\\frac{-2Z}{3a}} e^{i\\phi} sin(\\theta)\\\\\n",
    "\\end{align}\n",
    "\n",
    "**1.2.: Calcule la energía electrónica de ambos estados y determine el orden energético. (5 pts)**\n",
    "\n",
    "La energía electrónica en el átomo de hidrógeno se obtiene mediante la expresión:\n",
    "\n",
    "\\begin{equation}\n",
    "E_n = -\\frac{Z^2}{n^2}\\frac{e^2}{(4\\pi \\epsilon_0) 2a} \n",
    "\\end{equation}\n",
    "\n",
    "Como la energía solamente depende de $n$ las dos energías son:\n",
    "\n",
    "\n"
   ]
  },
  {
   "cell_type": "code",
   "execution_count": 3,
   "metadata": {},
   "outputs": [],
   "source": [
    "def E_n(Z,n):\n",
    "    return -1*(Z**2 * m_e * eprima**4) / (2 * n**2 * hbar**2)"
   ]
  },
  {
   "cell_type": "code",
   "execution_count": 10,
   "metadata": {},
   "outputs": [
    {
     "name": "stdout",
     "output_type": "stream",
     "text": [
      "La energía del estado n = 2 es: -5.45e-19 J, -3.401 eV, -328.187 kJ/mol \n",
      "La energía del estado n = 3 es: -2.422e-19 J, -1.512 eV, -145.861 kJ/mol \n"
     ]
    }
   ],
   "source": [
    "print(\"La energía del estado n = 2 es: {} J, {} eV, {} kJ/mol \".format(np.format_float_scientific(E_n(1,2),3), round(E_n(1,2)*qcel.constants.conversion_factor(\"J\" , \"eV\"), 3), round(E_n(1,2)*J2kJmol, 3)))\n",
    "print(\"La energía del estado n = 3 es: {} J, {} eV, {} kJ/mol \".format(np.format_float_scientific(E_n(1,3),3), round(E_n(1,3)*qcel.constants.conversion_factor(\"J\" , \"eV\"), 3), round(E_n(1,3)*J2kJmol, 3)))\n"
   ]
  },
  {
   "cell_type": "markdown",
   "metadata": {},
   "source": [
    "**1.3.: Calcule la frecuencia de un fotón que puede generar la transición del estado de menor energía al estado de mayor energía (5 pts):**\n",
    "\n",
    "Para calcular la frecuencia del fotón emitido, debemos calcular la diferencia entre los nivels de energía $n=2$ y $n=3$:\n",
    "\n",
    "\\begin{align}\n",
    "\\Delta E(n_1 \\rightarrow n_2) &= \\Big(-\\frac{Z^2}{n_1^2}\\frac{e'^2}{2a_0}\\Big) - \\Big(-\\frac{Z^2}{n_2^2}\\frac{e'^2}{2a_0}\\Big) \\\\\n",
    "&= \\Big(\\frac{1}{n_2^2} - \\frac{1}{n_1^2}\\Big) \\Big(Z^2\\frac{e'^2}{2a_0}\\Big)\n",
    "\\end{align}\n",
    "\n",
    "Entoncestenemos que:\n",
    "\n",
    "\\begin{align}\n",
    "\\Delta E(3 \\rightarrow 2)  &= \\Big(\\frac{1}{4} - \\frac{1}{9}\\Big) \\Big(\\frac{e'^2}{2a_0}\\Big) =  \\Big(\\frac{5}{36}\\Big) \\Big(\\frac{e'^2}{2a_0}\\Big)\n",
    "\\end{align}"
   ]
  },
  {
   "cell_type": "code",
   "execution_count": 5,
   "metadata": {},
   "outputs": [],
   "source": [
    "def deltaE(n1,n2,Z):\n",
    "    return (1/n2**2 - 1/n1**2) * (Z**2 * eprima**2 / (2 * a_0)) "
   ]
  },
  {
   "cell_type": "code",
   "execution_count": 6,
   "metadata": {},
   "outputs": [
    {
     "name": "stdout",
     "output_type": "stream",
     "text": [
      "La diferencia entre los niveles de energía n1=3 y n2=2 es: 3.028e-19 J\n"
     ]
    }
   ],
   "source": [
    "print('La diferencia entre los niveles de energía n1=3 y n2=2 es: {} J'.format(np.format_float_scientific(deltaE(3,2,1),3)))\n"
   ]
  },
  {
   "cell_type": "markdown",
   "metadata": {},
   "source": [
    "Por otro lado tenemos que:\n",
    "\\begin{align}\n",
    " \\Delta E(n_1 \\rightarrow n_2) = h\\nu\n",
    "\\end{align}\n",
    "\n",
    "\\begin{align}\n",
    " \\nu= \\frac{h}{\\Delta E(n_1 \\rightarrow n_2)} \n",
    "\\end{align}\n"
   ]
  },
  {
   "cell_type": "code",
   "execution_count": 7,
   "metadata": {},
   "outputs": [],
   "source": [
    "nu = deltaE(3,2,1)/h"
   ]
  },
  {
   "cell_type": "code",
   "execution_count": 8,
   "metadata": {},
   "outputs": [
    {
     "name": "stdout",
     "output_type": "stream",
     "text": [
      "La frecuencia de la radiación emitida es: 4.569e+14 Hz\n"
     ]
    }
   ],
   "source": [
    "print('La frecuencia de la radiación emitida es: {} Hz'.format(np.format_float_scientific(nu, 3)))\n"
   ]
  },
  {
   "cell_type": "markdown",
   "metadata": {},
   "source": [
    "**1.4.: ¿En que estado va ser mayor la probabilidad de encontrar el electrón cercano al núcleo? Justifique su respuesta.(3 pts)**\n",
    "\n",
    "En el estadto n=2 l=0 y m=0 el electrón no tiene momento angular por lo cuál existe una probabilidad alta de medir la posición del electrón en las cercanias del núcleo. Por otro lado en el estado n=3 l=1 y m=0, el electrón si tiene un momento angular y consecuentemente la función de onda tiene un nodo sobre el núcleo tal que el electrón tiene zero probabilidad de ser observado sobre el núcleo. "
   ]
  },
  {
   "cell_type": "markdown",
   "metadata": {},
   "source": [
    "### PROBLEMA 2 (10pts): \n",
    "\n",
    "Un átomo de Li$_2^+$ se encuentra en el estado electrónico 2p$_{0}$.  Encuentre la distancia más probable  del electrón con respecto al núcleo.\n",
    "\n",
    "Para poder encontrar la distancia más probable debemos encontrar el máximo en la función de distribción radial.\n",
    "\n",
    "\\begin{align}\n",
    "\\frac{d|R(r)|^2r^2}{dr} = 0\n",
    "\\end{align}\n",
    "\n",
    "La función radial del estado n=2, l=1, m=0 está dado por:\n",
    "\n",
    "\\begin{align}\n",
    "R_{21}(r) = \\frac{1}{2\\sqrt{6}}\\left(\\frac{3}{a}\\right)^{5/2}re^{-\\frac{3r}{2a}}\n",
    "\\end{align}\n",
    "\n",
    "Debemos calcular la derivada con respecto a la coordenada radial:"
   ]
  },
  {
   "cell_type": "code",
   "execution_count": 18,
   "metadata": {},
   "outputs": [
    {
     "name": "stdout",
     "output_type": "stream",
     "text": [
      "\\frac{0.0416666666666667 r^{2} e^{- \\frac{3 r}{a}}}{a^{5}}\n"
     ]
    }
   ],
   "source": [
    "from sympy import diff, sin, exp \n",
    "from sympy.abc import r,pi,a,Z\n",
    "from sympy import latex\n",
    "\n",
    "radDis =  1 / 24 * a**-5 * r**2 * exp(-3*r/a) \n",
    "print(latex(radDis))"
   ]
  },
  {
   "cell_type": "markdown",
   "metadata": {},
   "source": [
    "$$\n",
    "|R_{21}|^2 = \\frac{1}{24a^{5}}r^{2} e^{- \\frac{3 r}{a}}\n",
    "$$"
   ]
  },
  {
   "cell_type": "code",
   "execution_count": 19,
   "metadata": {},
   "outputs": [
    {
     "name": "stdout",
     "output_type": "stream",
     "text": [
      "\\frac{0.0833333333333333 r e^{- \\frac{3 r}{a}}}{a^{5}} - \\frac{0.125 r^{2} e^{- \\frac{3 r}{a}}}{a^{6}}\n"
     ]
    }
   ],
   "source": [
    "rderv = diff(radDis, r)\n",
    "print(latex(rderv))"
   ]
  },
  {
   "cell_type": "markdown",
   "metadata": {},
   "source": [
    "Tenemos entonces que la derivada es:\n",
    "\n",
    "$$\n",
    "\\frac{d|R(r)|^2r^2}{dr} = \\frac{r e^{- \\frac{3 r}{a}}}{12a^{5}} - \\frac{r^{2} e^{- \\frac{3 r}{a}}}{8a^{6}}\n",
    "$$\n",
    "\n",
    "Ahora bien, queremos encontrar el máximo de esta distribución es decir el punto donde la pendiente es igual a 0. Por lo tanto debemos resolver:\n",
    "\n",
    "\\begin{align}\n",
    "\\frac{r e^{- \\frac{3 r}{a}}}{12a^{5}} - \\frac{r^{2} e^{- \\frac{3 r}{a}}}{8a^{6}} = 0\\\\\n",
    "re^{- \\frac{3 r}{a}}\\left( \\frac{1}{12a^{5}} - \\frac{r}{8a^{6}} \\right) = 0\n",
    "\\end{align}\n",
    "\n",
    "Claramente los valores extremos r=0 y r=$\\infty$ son solución de esta ecuación, pero quermos encontrar el valor intermedio por lo tanto:\n",
    "\n",
    "\\begin{align}\n",
    "\\frac{1}{12a^{5}} - \\frac{r}{8a^{6}}  = 0 \\\\\n",
    "\\frac{1}{12} - \\frac{r}{8a}  = 0\\\\\n",
    "\\frac{1}{12} = \\frac{r}{8a} \\\\\n",
    "r = \\frac{3}{4} a\n",
    "\\end{align}\n",
    "\n",
    "El valor más probable está a 3/4 a."
   ]
  },
  {
   "cell_type": "markdown",
   "metadata": {},
   "source": [
    "### Problema 3 (15 pts)\n",
    "\n",
    "Calcule la energía de ionización de los siguientes elementos a través de la regla de Slater:\n",
    "\n",
    "- O (Z=8)\n",
    "- Si (Z=14)"
   ]
  },
  {
   "cell_type": "markdown",
   "metadata": {},
   "source": [
    "Primero debemos escribir la configuración electrónica por capas:\n",
    "\n",
    "$$ O: 1s^22s^2 2p^4 = (1s)^2 (2s2p)^6$$\n",
    "$$ Si: (1s)^2 (2s2p)^6 (2s)^2 (2s2p)^4 $$\n",
    "\n",
    "Después utilizamos las reglas de Slater para calcular el apantallamiento:\n",
    "\n",
    "$$ \\sigma_O = 5*0.35 + 2*0.85 = 3.45$$\n",
    "$$ \\sigma_{Si} = 3*0.35 + 2*1.0 + 8*0.85 = 9.85 $$\n",
    "\n",
    "\n",
    "Por lo tanto la carga nuclear efectiva de este átomo es:\n",
    "\n",
    "$$ Z_{eff}(\\text{O}) = 8 - 3.45 = 4.55 $$\n",
    "$$ Z_{eff}(\\text{Si}) = 14 - 9.55 = 4.15  $$\n",
    "\n",
    "Finalmente debemos calcular el potencial de ionización de estos dos átomos:\n",
    "\n",
    "$$ IP_{O} = -\\epsilon  = \\frac{Z_{eff}^2(\\text{O})}{4} (13.6eV) = \\frac{(4.55)^2}{4}(13.6eV) = 70.4 eV $$ \n",
    "$$ IP_{Si} = -\\epsilon  = \\frac{Z_{eff}^2(\\text{Si})}{9} (13.6eV) \\frac{(4.15)^2}{9}(13.6eV) = 26.0 eV $$ "
   ]
  },
  {
   "cell_type": "markdown",
   "metadata": {},
   "source": [
    "### Problema 4 (10 pts)\n",
    "\n",
    "Explique las siguientes tendencias en la tabla periódica: \n",
    "\n",
    "   - El potencial de ionización del  magnesio es menor al del fósforo.\n",
    "   - El radio atómico de carbono  es menor al del berilio.\n",
    "\n"
   ]
  },
  {
   "cell_type": "markdown",
   "metadata": {},
   "source": [
    "El potencial de ionización depende de la facilidad de extraer un electrón de una átomo mediante radiación electrmagnética. Mientras más ligado el electrón mayor será el potencial de ionización porque es más dificil liberar al electrón. El magnesio tiene una carga nuclear menor que el fosforo y como el  apantallamiento electrónico no es perfecto para electrónes de una capa la carga nuclear efectiva también será mayor para el fósforo, resultando en un mayor potencial de ionización. \n",
    "\n",
    "El radio atómico depende de la densidad electrónica promedio de un electrón. Si la distribución electrónica está más cerca al núcleo, menor va ser el radio atómico. Nuveamente esta propiedad depende de la carga nuclear efectiva de un átomo, ya que mientras mayor la carga, mayor atracción siente el electrón hacia el núcleo y la distancia promedio estará más cercana al núcleo. Cómo el carbono tiene una carga nuclear efectiva mayor a la del berilio, tendrá un radio atómico más pequeño."
   ]
  },
  {
   "cell_type": "markdown",
   "metadata": {},
   "source": [
    "### Problema 5 (10pts)\n",
    "\n",
    "Escriba el operador Hamiltoniano y una función de onda antisimétrica para el átomo de Li.  Explique cómo encontrar de forma aproximada la energía electrónica de este átomo. \n",
    "\n"
   ]
  },
  {
   "cell_type": "markdown",
   "metadata": {},
   "source": [
    "$$\n",
    "\\hat{H} = -\\frac{1}{2}\\nabla_1 --\\frac{1}{2}\\nabla_2 -\\frac{1}{2}\\nabla_3 - \\frac{3}{r1} - \\frac{3}{r2} - \\frac{3}{r3} +  \\frac{1}{r_{12}} +  \\frac{1}{r_{13}} +  \\frac{1}{r_{23}}   \n",
    "$$\n",
    "\n",
    "$$\n",
    "\\psi(1,2,3) = \\frac{1}{\\sqrt{6}}\n",
    "\\begin{vmatrix}\n",
    "1s(1)\\alpha(1) &  1s(1)\\beta(1)& 2s(1)\\alpha(1)  \\\\ \n",
    "1s(2)\\alpha(2)  & 1s(2)\\beta(2) & 2s(2)\\alpha(2)  \\\\\n",
    "1s(3)\\alpha(3)  & 1s(3)\\beta(3) &2s(3)\\alpha(3) \n",
    "\\end{vmatrix}\n",
    "$$\n",
    "\n",
    "Para obtener la energía electrónica del átomo de Li se puede utilizar el método variacional minimizando la energía con respecto a la carga nuclear del átomo en los orbitales 1s y 2s obteniendo de esa forma una carga nuclear efectiva."
   ]
  },
  {
   "cell_type": "code",
   "execution_count": null,
   "metadata": {},
   "outputs": [],
   "source": []
  }
 ],
 "metadata": {
  "kernelspec": {
   "display_name": "Python 3",
   "language": "python",
   "name": "python3"
  },
  "language_info": {
   "codemirror_mode": {
    "name": "ipython",
    "version": 3
   },
   "file_extension": ".py",
   "mimetype": "text/x-python",
   "name": "python",
   "nbconvert_exporter": "python",
   "pygments_lexer": "ipython3",
   "version": "3.7.7"
  }
 },
 "nbformat": 4,
 "nbformat_minor": 4
}
